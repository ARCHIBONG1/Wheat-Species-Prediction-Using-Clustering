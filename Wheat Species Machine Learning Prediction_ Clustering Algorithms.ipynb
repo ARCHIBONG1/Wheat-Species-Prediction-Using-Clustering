{
 "cells": [
  {
   "cell_type": "markdown",
   "id": "4595b48f",
   "metadata": {},
   "source": [
    "## Importing Necessary Libraries\n"
   ]
  },
  {
   "cell_type": "code",
   "execution_count": 1,
   "id": "1f09280b",
   "metadata": {},
   "outputs": [],
   "source": [
    "import matplotlib.pyplot as plt\n",
    "import pandas as pd\n",
    "import numpy as np\n",
    "from sklearn.cluster import KMeans\n",
    "from sklearn.decomposition import PCA\n",
    "import io\n",
    "import sys"
   ]
  },
  {
   "cell_type": "markdown",
   "id": "36131b28",
   "metadata": {},
   "source": [
    "## Importing the Training Dataset"
   ]
  },
  {
   "cell_type": "code",
   "execution_count": 2,
   "id": "3ea01ed5",
   "metadata": {},
   "outputs": [],
   "source": [
    "train_set = pd.read_excel(\"seeds_dataset_Randomized_for_HW.xlsx\")"
   ]
  },
  {
   "cell_type": "markdown",
   "id": "8db597a8",
   "metadata": {},
   "source": [
    "## Preliminary Data Description"
   ]
  },
  {
   "cell_type": "code",
   "execution_count": 3,
   "id": "fa7a0bd2",
   "metadata": {},
   "outputs": [
    {
     "data": {
      "text/html": [
       "<div>\n",
       "<style scoped>\n",
       "    .dataframe tbody tr th:only-of-type {\n",
       "        vertical-align: middle;\n",
       "    }\n",
       "\n",
       "    .dataframe tbody tr th {\n",
       "        vertical-align: top;\n",
       "    }\n",
       "\n",
       "    .dataframe thead th {\n",
       "        text-align: right;\n",
       "    }\n",
       "</style>\n",
       "<table border=\"1\" class=\"dataframe\">\n",
       "  <thead>\n",
       "    <tr style=\"text-align: right;\">\n",
       "      <th></th>\n",
       "      <th>Area</th>\n",
       "      <th>Perimeter</th>\n",
       "      <th>Compactness</th>\n",
       "      <th>Length</th>\n",
       "      <th>Width</th>\n",
       "      <th>Asymmetry</th>\n",
       "      <th>Length of kerenel groove</th>\n",
       "      <th>Class</th>\n",
       "    </tr>\n",
       "  </thead>\n",
       "  <tbody>\n",
       "    <tr>\n",
       "      <th>0</th>\n",
       "      <td>14.43</td>\n",
       "      <td>14.40</td>\n",
       "      <td>0.8751</td>\n",
       "      <td>5.585</td>\n",
       "      <td>3.272</td>\n",
       "      <td>3.975</td>\n",
       "      <td>5.144</td>\n",
       "      <td>1</td>\n",
       "    </tr>\n",
       "    <tr>\n",
       "      <th>1</th>\n",
       "      <td>18.95</td>\n",
       "      <td>16.42</td>\n",
       "      <td>0.8829</td>\n",
       "      <td>6.248</td>\n",
       "      <td>3.755</td>\n",
       "      <td>3.368</td>\n",
       "      <td>6.148</td>\n",
       "      <td>2</td>\n",
       "    </tr>\n",
       "    <tr>\n",
       "      <th>2</th>\n",
       "      <td>12.76</td>\n",
       "      <td>13.38</td>\n",
       "      <td>0.8964</td>\n",
       "      <td>5.073</td>\n",
       "      <td>3.155</td>\n",
       "      <td>2.828</td>\n",
       "      <td>4.830</td>\n",
       "      <td>3</td>\n",
       "    </tr>\n",
       "    <tr>\n",
       "      <th>3</th>\n",
       "      <td>12.11</td>\n",
       "      <td>13.47</td>\n",
       "      <td>0.8392</td>\n",
       "      <td>5.159</td>\n",
       "      <td>3.032</td>\n",
       "      <td>1.502</td>\n",
       "      <td>4.519</td>\n",
       "      <td>1</td>\n",
       "    </tr>\n",
       "    <tr>\n",
       "      <th>4</th>\n",
       "      <td>12.05</td>\n",
       "      <td>13.41</td>\n",
       "      <td>0.8416</td>\n",
       "      <td>5.267</td>\n",
       "      <td>2.847</td>\n",
       "      <td>4.988</td>\n",
       "      <td>5.046</td>\n",
       "      <td>3</td>\n",
       "    </tr>\n",
       "  </tbody>\n",
       "</table>\n",
       "</div>"
      ],
      "text/plain": [
       "    Area  Perimeter  Compactness  Length  Width  Asymmetry  \\\n",
       "0  14.43      14.40       0.8751   5.585  3.272      3.975   \n",
       "1  18.95      16.42       0.8829   6.248  3.755      3.368   \n",
       "2  12.76      13.38       0.8964   5.073  3.155      2.828   \n",
       "3  12.11      13.47       0.8392   5.159  3.032      1.502   \n",
       "4  12.05      13.41       0.8416   5.267  2.847      4.988   \n",
       "\n",
       "   Length of kerenel groove  Class  \n",
       "0                     5.144      1  \n",
       "1                     6.148      2  \n",
       "2                     4.830      3  \n",
       "3                     4.519      1  \n",
       "4                     5.046      3  "
      ]
     },
     "execution_count": 3,
     "metadata": {},
     "output_type": "execute_result"
    }
   ],
   "source": [
    "train_set.head()   # Preliminary display of data set"
   ]
  },
  {
   "cell_type": "code",
   "execution_count": 4,
   "id": "bf5fdf00",
   "metadata": {},
   "outputs": [
    {
     "data": {
      "text/html": [
       "<div>\n",
       "<style scoped>\n",
       "    .dataframe tbody tr th:only-of-type {\n",
       "        vertical-align: middle;\n",
       "    }\n",
       "\n",
       "    .dataframe tbody tr th {\n",
       "        vertical-align: top;\n",
       "    }\n",
       "\n",
       "    .dataframe thead th {\n",
       "        text-align: right;\n",
       "    }\n",
       "</style>\n",
       "<table border=\"1\" class=\"dataframe\">\n",
       "  <thead>\n",
       "    <tr style=\"text-align: right;\">\n",
       "      <th></th>\n",
       "      <th>Area</th>\n",
       "      <th>Perimeter</th>\n",
       "      <th>Compactness</th>\n",
       "      <th>Length</th>\n",
       "      <th>Width</th>\n",
       "      <th>Asymmetry</th>\n",
       "      <th>Length of kerenel groove</th>\n",
       "      <th>Class</th>\n",
       "    </tr>\n",
       "  </thead>\n",
       "  <tbody>\n",
       "    <tr>\n",
       "      <th>count</th>\n",
       "      <td>198.000000</td>\n",
       "      <td>198.000000</td>\n",
       "      <td>198.000000</td>\n",
       "      <td>198.000000</td>\n",
       "      <td>198.000000</td>\n",
       "      <td>198.000000</td>\n",
       "      <td>198.000000</td>\n",
       "      <td>198.000000</td>\n",
       "    </tr>\n",
       "    <tr>\n",
       "      <th>mean</th>\n",
       "      <td>14.868485</td>\n",
       "      <td>14.568939</td>\n",
       "      <td>0.871062</td>\n",
       "      <td>5.632374</td>\n",
       "      <td>3.261237</td>\n",
       "      <td>3.659748</td>\n",
       "      <td>5.411753</td>\n",
       "      <td>1.994949</td>\n",
       "    </tr>\n",
       "    <tr>\n",
       "      <th>std</th>\n",
       "      <td>2.912254</td>\n",
       "      <td>1.307944</td>\n",
       "      <td>0.023719</td>\n",
       "      <td>0.444037</td>\n",
       "      <td>0.378294</td>\n",
       "      <td>1.492139</td>\n",
       "      <td>0.490131</td>\n",
       "      <td>0.815444</td>\n",
       "    </tr>\n",
       "    <tr>\n",
       "      <th>min</th>\n",
       "      <td>10.590000</td>\n",
       "      <td>12.410000</td>\n",
       "      <td>0.808100</td>\n",
       "      <td>4.899000</td>\n",
       "      <td>2.630000</td>\n",
       "      <td>0.765100</td>\n",
       "      <td>4.519000</td>\n",
       "      <td>1.000000</td>\n",
       "    </tr>\n",
       "    <tr>\n",
       "      <th>25%</th>\n",
       "      <td>12.230000</td>\n",
       "      <td>13.450000</td>\n",
       "      <td>0.856900</td>\n",
       "      <td>5.253000</td>\n",
       "      <td>2.944000</td>\n",
       "      <td>2.472500</td>\n",
       "      <td>5.045250</td>\n",
       "      <td>1.000000</td>\n",
       "    </tr>\n",
       "    <tr>\n",
       "      <th>50%</th>\n",
       "      <td>14.405000</td>\n",
       "      <td>14.380000</td>\n",
       "      <td>0.873100</td>\n",
       "      <td>5.534000</td>\n",
       "      <td>3.243500</td>\n",
       "      <td>3.597500</td>\n",
       "      <td>5.223000</td>\n",
       "      <td>2.000000</td>\n",
       "    </tr>\n",
       "    <tr>\n",
       "      <th>75%</th>\n",
       "      <td>17.305000</td>\n",
       "      <td>15.715000</td>\n",
       "      <td>0.887325</td>\n",
       "      <td>5.993500</td>\n",
       "      <td>3.561750</td>\n",
       "      <td>4.695750</td>\n",
       "      <td>5.878500</td>\n",
       "      <td>3.000000</td>\n",
       "    </tr>\n",
       "    <tr>\n",
       "      <th>max</th>\n",
       "      <td>21.180000</td>\n",
       "      <td>17.250000</td>\n",
       "      <td>0.918300</td>\n",
       "      <td>6.675000</td>\n",
       "      <td>4.033000</td>\n",
       "      <td>8.456000</td>\n",
       "      <td>6.550000</td>\n",
       "      <td>3.000000</td>\n",
       "    </tr>\n",
       "  </tbody>\n",
       "</table>\n",
       "</div>"
      ],
      "text/plain": [
       "             Area   Perimeter  Compactness      Length       Width  \\\n",
       "count  198.000000  198.000000   198.000000  198.000000  198.000000   \n",
       "mean    14.868485   14.568939     0.871062    5.632374    3.261237   \n",
       "std      2.912254    1.307944     0.023719    0.444037    0.378294   \n",
       "min     10.590000   12.410000     0.808100    4.899000    2.630000   \n",
       "25%     12.230000   13.450000     0.856900    5.253000    2.944000   \n",
       "50%     14.405000   14.380000     0.873100    5.534000    3.243500   \n",
       "75%     17.305000   15.715000     0.887325    5.993500    3.561750   \n",
       "max     21.180000   17.250000     0.918300    6.675000    4.033000   \n",
       "\n",
       "        Asymmetry  Length of kerenel groove       Class  \n",
       "count  198.000000                198.000000  198.000000  \n",
       "mean     3.659748                  5.411753    1.994949  \n",
       "std      1.492139                  0.490131    0.815444  \n",
       "min      0.765100                  4.519000    1.000000  \n",
       "25%      2.472500                  5.045250    1.000000  \n",
       "50%      3.597500                  5.223000    2.000000  \n",
       "75%      4.695750                  5.878500    3.000000  \n",
       "max      8.456000                  6.550000    3.000000  "
      ]
     },
     "execution_count": 4,
     "metadata": {},
     "output_type": "execute_result"
    }
   ],
   "source": [
    "train_set.describe()  # Summary statistics of data set"
   ]
  },
  {
   "cell_type": "code",
   "execution_count": 5,
   "id": "6fc68d48",
   "metadata": {},
   "outputs": [
    {
     "name": "stdout",
     "output_type": "stream",
     "text": [
      "<class 'pandas.core.frame.DataFrame'>\n",
      "RangeIndex: 198 entries, 0 to 197\n",
      "Data columns (total 8 columns):\n",
      " #   Column                    Non-Null Count  Dtype  \n",
      "---  ------                    --------------  -----  \n",
      " 0   Area                      198 non-null    float64\n",
      " 1   Perimeter                 198 non-null    float64\n",
      " 2   Compactness               198 non-null    float64\n",
      " 3   Length                    198 non-null    float64\n",
      " 4   Width                     198 non-null    float64\n",
      " 5   Asymmetry                 198 non-null    float64\n",
      " 6   Length of kerenel groove  198 non-null    float64\n",
      " 7   Class                     198 non-null    int64  \n",
      "dtypes: float64(7), int64(1)\n",
      "memory usage: 12.5 KB\n"
     ]
    }
   ],
   "source": [
    "train_set.info()  # Checks for data types contained within each colum and assesses completeness"
   ]
  },
  {
   "cell_type": "markdown",
   "id": "5473f77d",
   "metadata": {},
   "source": [
    "## Statistical Feature Selection"
   ]
  },
  {
   "cell_type": "markdown",
   "id": "5bd11e01",
   "metadata": {},
   "source": [
    "##### Data preparation visualisation"
   ]
  },
  {
   "cell_type": "code",
   "execution_count": 12,
   "id": "86d44bc0",
   "metadata": {},
   "outputs": [
    {
     "name": "stdout",
     "output_type": "stream",
     "text": [
      "[[14.43   14.4     0.8751 ...  3.975   5.144   1.    ]\n",
      " [18.95   16.42    0.8829 ...  3.368   6.148   2.    ]\n",
      " [12.76   13.38    0.8964 ...  2.828   4.83    3.    ]\n",
      " ...\n",
      " [12.62   13.67    0.8481 ...  3.306   5.231   3.    ]\n",
      " [11.83   13.23    0.8496 ...  5.195   5.307   3.    ]\n",
      " [17.36   15.76    0.8785 ...  3.526   5.971   2.    ]]\n"
     ]
    }
   ],
   "source": [
    "train_set_arrays = np.asarray(train_set) # Converting the training set into numpy array for visualisation\n",
    "print(train_set_arrays)\n"
   ]
  },
  {
   "cell_type": "code",
   "execution_count": 23,
   "id": "224a580b",
   "metadata": {},
   "outputs": [],
   "source": [
    "# Assigning variables to the column of the numpy area\n",
    "train_area=train_set_arrays[:,0]\n",
    "train_perimeter=train_set_arrays[:,1]\n",
    "train_compaction=train_set_arrays[:,2]\n",
    "train_length1=train_set_arrays[:,3]\n",
    "train_width=train_set_arrays[:,4]\n",
    "train_asymmetry=train_set_arrays[:,5]\n",
    "train_length2=train_set_arrays[:,6]\n",
    "train_label=train_set_arrays[:,7]"
   ]
  },
  {
   "cell_type": "code",
   "execution_count": 49,
   "id": "1ccf74c9",
   "metadata": {},
   "outputs": [
    {
     "data": {
      "text/plain": [
       "[<matplotlib.lines.Line2D at 0x247acb67250>]"
      ]
     },
     "execution_count": 49,
     "metadata": {},
     "output_type": "execute_result"
    },
    {
     "data": {
      "image/png": "[encoded data removed]",
      "text/plain": [
       "<Figure size 720x576 with 2 Axes>"
      ]
     },
     "metadata": {
      "needs_background": "light"
     },
     "output_type": "display_data"
    }
   ],
   "source": [
    "fig, ab = plt.subplots(2)\n",
    "\n",
    "ab[0].plot(train_label,train_area, \"o\")\n",
    "ab[1].plot(train_label,train_perimeter, \"o\")"
   ]
  },
  {
   "cell_type": "code",
   "execution_count": 55,
   "id": "7d5c4922",
   "metadata": {},
   "outputs": [
    {
     "data": {
      "image/png": "[encoded data removed]",
      "text/plain": [
       "<Figure size 720x576 with 2 Axes>"
      ]
     },
     "metadata": {
      "needs_background": "light"
     },
     "output_type": "display_data"
    }
   ],
   "source": [
    "fig, cd = plt.subplots(2)\n",
    "\n",
    "cd[0].plot(train_label,train_compaction, \"o\")\n",
    "cd[1].plot(train_label,train_length1, \"o\");"
   ]
  },
  {
   "cell_type": "code",
   "execution_count": 54,
   "id": "39e7da76",
   "metadata": {},
   "outputs": [
    {
     "data": {
      "image/png": "[encoded data removed]",
      "text/plain": [
       "<Figure size 720x576 with 2 Axes>"
      ]
     },
     "metadata": {
      "needs_background": "light"
     },
     "output_type": "display_data"
    }
   ],
   "source": [
    "fig, ef = plt.subplots(2)\n",
    "\n",
    "ef[0].plot(train_label,train_width, \"o\")\n",
    "ef[1].plot(train_label,train_asymmetry, \"o\");\n"
   ]
  },
  {
   "cell_type": "code",
   "execution_count": 59,
   "id": "ab3c41b4",
   "metadata": {},
   "outputs": [
    {
     "data": {
      "image/png": "[encoded data removed]",
      "text/plain": [
       "<Figure size 720x576 with 1 Axes>"
      ]
     },
     "metadata": {
      "needs_background": "light"
     },
     "output_type": "display_data"
    }
   ],
   "source": [
    "fig, g = plt.subplots()\n",
    "\n",
    "g.plot(train_label,train_length2, \"o\");"
   ]
  },
  {
   "cell_type": "markdown",
   "id": "699293ee",
   "metadata": {},
   "source": [
    "### Using Pearson's corelation coefficient"
   ]
  },
  {
   "cell_type": "code",
   "execution_count": 71,
   "id": "f6752a98",
   "metadata": {},
   "outputs": [],
   "source": [
    "\n",
    "area = np.corrcoef(train_label,train_area)\n",
    "\n",
    "perimeter = np.corrcoef(train_label,train_perimeter)\n",
    "\n",
    "compaction = np.corrcoef(train_label,train_compaction)\n",
    "\n",
    "length1 = np.corrcoef(train_label,train_length1, \"o\")\n",
    "\n",
    "width = np.corrcoef(train_label,train_width)\n",
    "\n",
    "asymmetry = np.corrcoef(train_label, train_asymmetry)\n",
    "\n",
    "length2 = np.corrcoef(train_label, train_length2)"
   ]
  },
  {
   "cell_type": "code",
   "execution_count": 79,
   "id": "31a6ec3b",
   "metadata": {},
   "outputs": [
    {
     "name": "stdout",
     "output_type": "stream",
     "text": [
      "[[ 1.         -0.35102688]\n",
      " [-0.35102688  1.        ]]\n"
     ]
    }
   ],
   "source": [
    "print(area)"
   ]
  },
  {
   "cell_type": "code",
   "execution_count": 80,
   "id": "efb287af",
   "metadata": {},
   "outputs": [
    {
     "name": "stdout",
     "output_type": "stream",
     "text": [
      "[[ 1.         -0.33554134]\n",
      " [-0.33554134  1.        ]]\n"
     ]
    }
   ],
   "source": [
    "print(perimeter)"
   ]
  },
  {
   "cell_type": "code",
   "execution_count": 81,
   "id": "abed5c31",
   "metadata": {
    "scrolled": true
   },
   "outputs": [
    {
     "name": "stdout",
     "output_type": "stream",
     "text": [
      "[[ 1.         -0.51740061]\n",
      " [-0.51740061  1.        ]]\n"
     ]
    }
   ],
   "source": [
    "print(compaction)"
   ]
  },
  {
   "cell_type": "code",
   "execution_count": 82,
   "id": "dbfeaa42",
   "metadata": {},
   "outputs": [
    {
     "name": "stdout",
     "output_type": "stream",
     "text": [
      "[[ 1.         -0.26568481]\n",
      " [-0.26568481  1.        ]]\n"
     ]
    }
   ],
   "source": [
    "print(length1)"
   ]
  },
  {
   "cell_type": "code",
   "execution_count": 83,
   "id": "59f92ec6",
   "metadata": {},
   "outputs": [
    {
     "name": "stdout",
     "output_type": "stream",
     "text": [
      "[[ 1.         -0.42599539]\n",
      " [-0.42599539  1.        ]]\n"
     ]
    }
   ],
   "source": [
    "print(width)"
   ]
  },
  {
   "cell_type": "code",
   "execution_count": 84,
   "id": "e890a8c1",
   "metadata": {},
   "outputs": [
    {
     "name": "stdout",
     "output_type": "stream",
     "text": [
      "[[1.         0.56680018]\n",
      " [0.56680018 1.        ]]\n"
     ]
    }
   ],
   "source": [
    "print(asymmetry)"
   ]
  },
  {
   "cell_type": "code",
   "execution_count": 85,
   "id": "04e60e86",
   "metadata": {},
   "outputs": [
    {
     "name": "stdout",
     "output_type": "stream",
     "text": [
      "[[1.         0.00959859]\n",
      " [0.00959859 1.        ]]\n"
     ]
    }
   ],
   "source": [
    "print(length2)"
   ]
  },
  {
   "cell_type": "markdown",
   "id": "399721b2",
   "metadata": {},
   "source": [
    "### Feature scaling was carried out on scale using the mean nomalisation methods"
   ]
  },
  {
   "cell_type": "code",
   "execution_count": 96,
   "id": "3fe590fa",
   "metadata": {},
   "outputs": [],
   "source": [
    "scaled_train_set = pd.read_excel(\"Normalised_dataset_Randomised_for_HW.xlsx\")  # Loading the scaled features"
   ]
  },
  {
   "cell_type": "code",
   "execution_count": 88,
   "id": "41e643ee",
   "metadata": {},
   "outputs": [
    {
     "data": {
      "text/html": [
       "<div>\n",
       "<style scoped>\n",
       "    .dataframe tbody tr th:only-of-type {\n",
       "        vertical-align: middle;\n",
       "    }\n",
       "\n",
       "    .dataframe tbody tr th {\n",
       "        vertical-align: top;\n",
       "    }\n",
       "\n",
       "    .dataframe thead th {\n",
       "        text-align: right;\n",
       "    }\n",
       "</style>\n",
       "<table border=\"1\" class=\"dataframe\">\n",
       "  <thead>\n",
       "    <tr style=\"text-align: right;\">\n",
       "      <th></th>\n",
       "      <th>Normalised Area</th>\n",
       "      <th>Normalised Compaction</th>\n",
       "      <th>Normalised Length</th>\n",
       "      <th>Normalised  Width</th>\n",
       "      <th>Normalised Asymmetry</th>\n",
       "      <th>Normalised Length of kerenel groove</th>\n",
       "    </tr>\n",
       "  </thead>\n",
       "  <tbody>\n",
       "    <tr>\n",
       "      <th>0</th>\n",
       "      <td>-0.150566</td>\n",
       "      <td>0.170243</td>\n",
       "      <td>-0.106689</td>\n",
       "      <td>0.028451</td>\n",
       "      <td>0.211275</td>\n",
       "      <td>-0.546289</td>\n",
       "    </tr>\n",
       "    <tr>\n",
       "      <th>1</th>\n",
       "      <td>1.401497</td>\n",
       "      <td>0.499094</td>\n",
       "      <td>1.386423</td>\n",
       "      <td>1.305236</td>\n",
       "      <td>-0.195523</td>\n",
       "      <td>1.502143</td>\n",
       "    </tr>\n",
       "    <tr>\n",
       "      <th>2</th>\n",
       "      <td>-0.724004</td>\n",
       "      <td>1.068258</td>\n",
       "      <td>-1.259741</td>\n",
       "      <td>-0.280832</td>\n",
       "      <td>-0.557420</td>\n",
       "      <td>-1.186934</td>\n",
       "    </tr>\n",
       "    <tr>\n",
       "      <th>3</th>\n",
       "      <td>-0.947199</td>\n",
       "      <td>-1.343311</td>\n",
       "      <td>-1.066064</td>\n",
       "      <td>-0.605976</td>\n",
       "      <td>-1.446077</td>\n",
       "      <td>-1.821458</td>\n",
       "    </tr>\n",
       "    <tr>\n",
       "      <th>4</th>\n",
       "      <td>-0.967802</td>\n",
       "      <td>-1.242127</td>\n",
       "      <td>-0.822842</td>\n",
       "      <td>-1.095013</td>\n",
       "      <td>0.890166</td>\n",
       "      <td>-0.746235</td>\n",
       "    </tr>\n",
       "  </tbody>\n",
       "</table>\n",
       "</div>"
      ],
      "text/plain": [
       "   Normalised Area  Normalised Compaction  Normalised Length  \\\n",
       "0        -0.150566               0.170243          -0.106689   \n",
       "1         1.401497               0.499094           1.386423   \n",
       "2        -0.724004               1.068258          -1.259741   \n",
       "3        -0.947199              -1.343311          -1.066064   \n",
       "4        -0.967802              -1.242127          -0.822842   \n",
       "\n",
       "   Normalised  Width  Normalised Asymmetry  \\\n",
       "0           0.028451              0.211275   \n",
       "1           1.305236             -0.195523   \n",
       "2          -0.280832             -0.557420   \n",
       "3          -0.605976             -1.446077   \n",
       "4          -1.095013              0.890166   \n",
       "\n",
       "   Normalised Length of kerenel groove  \n",
       "0                            -0.546289  \n",
       "1                             1.502143  \n",
       "2                            -1.186934  \n",
       "3                            -1.821458  \n",
       "4                            -0.746235  "
      ]
     },
     "execution_count": 88,
     "metadata": {},
     "output_type": "execute_result"
    }
   ],
   "source": [
    "scaled_train_set.head()   # Preliminary display of data set"
   ]
  },
  {
   "cell_type": "code",
   "execution_count": 89,
   "id": "7af281bd",
   "metadata": {},
   "outputs": [
    {
     "data": {
      "text/html": [
       "<div>\n",
       "<style scoped>\n",
       "    .dataframe tbody tr th:only-of-type {\n",
       "        vertical-align: middle;\n",
       "    }\n",
       "\n",
       "    .dataframe tbody tr th {\n",
       "        vertical-align: top;\n",
       "    }\n",
       "\n",
       "    .dataframe thead th {\n",
       "        text-align: right;\n",
       "    }\n",
       "</style>\n",
       "<table border=\"1\" class=\"dataframe\">\n",
       "  <thead>\n",
       "    <tr style=\"text-align: right;\">\n",
       "      <th></th>\n",
       "      <th>Normalised Area</th>\n",
       "      <th>Normalised Compaction</th>\n",
       "      <th>Normalised Length</th>\n",
       "      <th>Normalised  Width</th>\n",
       "      <th>Normalised Asymmetry</th>\n",
       "      <th>Normalised Length of kerenel groove</th>\n",
       "    </tr>\n",
       "  </thead>\n",
       "  <tbody>\n",
       "    <tr>\n",
       "      <th>count</th>\n",
       "      <td>1.980000e+02</td>\n",
       "      <td>198.000000</td>\n",
       "      <td>1.980000e+02</td>\n",
       "      <td>1.980000e+02</td>\n",
       "      <td>1.980000e+02</td>\n",
       "      <td>1.980000e+02</td>\n",
       "    </tr>\n",
       "    <tr>\n",
       "      <th>mean</th>\n",
       "      <td>-5.202676e-08</td>\n",
       "      <td>-0.000016</td>\n",
       "      <td>-5.914486e-07</td>\n",
       "      <td>9.879548e-07</td>\n",
       "      <td>3.249352e-07</td>\n",
       "      <td>-9.686134e-07</td>\n",
       "    </tr>\n",
       "    <tr>\n",
       "      <th>std</th>\n",
       "      <td>1.000000e+00</td>\n",
       "      <td>0.999999</td>\n",
       "      <td>9.999960e-01</td>\n",
       "      <td>9.999995e-01</td>\n",
       "      <td>1.000000e+00</td>\n",
       "      <td>9.999994e-01</td>\n",
       "    </tr>\n",
       "    <tr>\n",
       "      <th>min</th>\n",
       "      <td>-1.469132e+00</td>\n",
       "      <td>-2.654496</td>\n",
       "      <td>-1.651598e+00</td>\n",
       "      <td>-1.668641e+00</td>\n",
       "      <td>-1.939932e+00</td>\n",
       "      <td>-1.821458e+00</td>\n",
       "    </tr>\n",
       "    <tr>\n",
       "      <th>25%</th>\n",
       "      <td>-9.059941e-01</td>\n",
       "      <td>-0.597074</td>\n",
       "      <td>-8.543709e-01</td>\n",
       "      <td>-8.385991e-01</td>\n",
       "      <td>-7.956685e-01</td>\n",
       "      <td>-7.477654e-01</td>\n",
       "    </tr>\n",
       "    <tr>\n",
       "      <th>50%</th>\n",
       "      <td>-1.591499e-01</td>\n",
       "      <td>0.085923</td>\n",
       "      <td>-2.215436e-01</td>\n",
       "      <td>-4.688681e-02</td>\n",
       "      <td>-4.171729e-02</td>\n",
       "      <td>-3.851072e-01</td>\n",
       "    </tr>\n",
       "    <tr>\n",
       "      <th>75%</th>\n",
       "      <td>8.366423e-01</td>\n",
       "      <td>0.685653</td>\n",
       "      <td>8.132754e-01</td>\n",
       "      <td>7.943901e-01</td>\n",
       "      <td>6.943066e-01</td>\n",
       "      <td>9.522903e-01</td>\n",
       "    </tr>\n",
       "    <tr>\n",
       "      <th>max</th>\n",
       "      <td>2.167227e+00</td>\n",
       "      <td>1.991568</td>\n",
       "      <td>2.348051e+00</td>\n",
       "      <td>2.040114e+00</td>\n",
       "      <td>3.214347e+00</td>\n",
       "      <td>2.322332e+00</td>\n",
       "    </tr>\n",
       "  </tbody>\n",
       "</table>\n",
       "</div>"
      ],
      "text/plain": [
       "       Normalised Area  Normalised Compaction  Normalised Length  \\\n",
       "count     1.980000e+02             198.000000       1.980000e+02   \n",
       "mean     -5.202676e-08              -0.000016      -5.914486e-07   \n",
       "std       1.000000e+00               0.999999       9.999960e-01   \n",
       "min      -1.469132e+00              -2.654496      -1.651598e+00   \n",
       "25%      -9.059941e-01              -0.597074      -8.543709e-01   \n",
       "50%      -1.591499e-01               0.085923      -2.215436e-01   \n",
       "75%       8.366423e-01               0.685653       8.132754e-01   \n",
       "max       2.167227e+00               1.991568       2.348051e+00   \n",
       "\n",
       "       Normalised  Width  Normalised Asymmetry  \\\n",
       "count       1.980000e+02          1.980000e+02   \n",
       "mean        9.879548e-07          3.249352e-07   \n",
       "std         9.999995e-01          1.000000e+00   \n",
       "min        -1.668641e+00         -1.939932e+00   \n",
       "25%        -8.385991e-01         -7.956685e-01   \n",
       "50%        -4.688681e-02         -4.171729e-02   \n",
       "75%         7.943901e-01          6.943066e-01   \n",
       "max         2.040114e+00          3.214347e+00   \n",
       "\n",
       "       Normalised Length of kerenel groove  \n",
       "count                         1.980000e+02  \n",
       "mean                         -9.686134e-07  \n",
       "std                           9.999994e-01  \n",
       "min                          -1.821458e+00  \n",
       "25%                          -7.477654e-01  \n",
       "50%                          -3.851072e-01  \n",
       "75%                           9.522903e-01  \n",
       "max                           2.322332e+00  "
      ]
     },
     "execution_count": 89,
     "metadata": {},
     "output_type": "execute_result"
    }
   ],
   "source": [
    "scaled_train_set.describe()  # Summary statistics of data set"
   ]
  },
  {
   "cell_type": "code",
   "execution_count": 90,
   "id": "53d4e45c",
   "metadata": {},
   "outputs": [],
   "source": [
    "kmeans_scaled_train_set = KMeans(n_clusters=3)  # Initialises Kmeans using 3 clusters"
   ]
  },
  {
   "cell_type": "code",
   "execution_count": 91,
   "id": "84aaf63f",
   "metadata": {},
   "outputs": [
    {
     "data": {
      "text/plain": [
       "KMeans(n_clusters=3)"
      ]
     },
     "execution_count": 91,
     "metadata": {},
     "output_type": "execute_result"
    }
   ],
   "source": [
    "kmeans_scaled_train_set.fit(scaled_train_set) # fits the data into the initialised kmeans"
   ]
  },
  {
   "cell_type": "code",
   "execution_count": 93,
   "id": "1ac13a57",
   "metadata": {},
   "outputs": [
    {
     "name": "stdout",
     "output_type": "stream",
     "text": [
      "[[-1.061794   -1.0739856  -0.89635836 -1.14555252  0.83276956 -0.59549721]\n",
      " [-0.24864548  0.3940491  -0.38702203 -0.09337052 -0.64723144 -0.68744091]\n",
      " [ 1.18087742  0.5203597   1.1818175   1.09142796 -0.04676335  1.23444777]]\n"
     ]
    }
   ],
   "source": [
    "print(kmeans_scaled_train_set.cluster_centers_)  # Prints the centers of the three KMeans cluster centroids"
   ]
  },
  {
   "cell_type": "code",
   "execution_count": 95,
   "id": "9fdad316",
   "metadata": {},
   "outputs": [
    {
     "name": "stdout",
     "output_type": "stream",
     "text": [
      "[1 2 1 1 0 1 2 2 1 0 2 0 2 1 2 0 2 2 0 0 2 2 2 0 1 0 2 0 1 1 1 0 2 2 2 1 1\n",
      " 2 1 1 2 2 2 1 0 0 1 0 1 2 1 2 1 2 2 1 1 1 2 0 1 1 2 1 1 2 1 0 0 1 0 2 2 2\n",
      " 0 2 0 1 1 1 2 1 0 1 2 0 1 2 0 1 2 2 2 2 2 1 0 2 0 2 0 2 0 1 2 2 2 1 1 1 0\n",
      " 0 1 0 0 2 1 1 2 2 0 1 0 1 0 2 2 1 0 2 2 0 1 0 2 1 0 1 1 0 0 0 0 0 0 2 0 0\n",
      " 1 1 0 0 0 1 1 1 1 0 0 1 2 0 0 0 2 2 2 0 1 1 0 1 1 2 1 0 1 1 0 2 1 2 1 2 1\n",
      " 2 1 2 2 2 2 2 1 1 1 0 0 2]\n"
     ]
    }
   ],
   "source": [
    "print(kmeans_scaled_train_set.labels_)  # Prints the labels assigned to each training example"
   ]
  },
  {
   "cell_type": "markdown",
   "id": "7769054d",
   "metadata": {},
   "source": [
    "### Evaluation of the Optimisation Objectives"
   ]
  },
  {
   "cell_type": "code",
   "execution_count": 99,
   "id": "1c894d37",
   "metadata": {},
   "outputs": [
    {
     "name": "stdout",
     "output_type": "stream",
     "text": [
      "377.81019252168403\n"
     ]
    }
   ],
   "source": [
    "print(kmeans_scaled_train_set.inertia_)  # Displays the final cost value of the clusters"
   ]
  },
  {
   "cell_type": "code",
   "execution_count": 103,
   "id": "b28106b8",
   "metadata": {
    "scrolled": true
   },
   "outputs": [
    {
     "name": "stdout",
     "output_type": "stream",
     "text": [
      "Initialization complete\n",
      "Iteration 0, inertia 449.3325392952856\n",
      "Iteration 1, inertia 384.72912990452784\n",
      "Iteration 2, inertia 381.4350633318523\n",
      "Iteration 3, inertia 380.2512852263085\n",
      "Iteration 4, inertia 379.77375833910145\n",
      "Iteration 5, inertia 379.4571217924722\n",
      "Iteration 6, inertia 378.9191932072933\n",
      "Iteration 7, inertia 378.3931131528621\n",
      "Iteration 8, inertia 377.9559694672671\n",
      "Iteration 9, inertia 377.8231648531797\n",
      "Converged at iteration 9: strict convergence.\n"
     ]
    },
    {
     "data": {
      "text/plain": [
       "KMeans(n_clusters=3, n_init=1, verbose=2)"
      ]
     },
     "execution_count": 103,
     "metadata": {},
     "output_type": "execute_result"
    }
   ],
   "source": [
    "# Function to display the cost fucntion for every iteration\n",
    "\n",
    "def ite_inertia(X):\n",
    "    kmeans_scaled_train_set = KMeans(n_clusters=3,verbose=2, n_init=1)\n",
    "    kmeans_scaled_train_set.fit(X)\n",
    "    return kmeans_scaled_train_set\n",
    "\n",
    "ite_inertia(scaled_train_set)\n"
   ]
  },
  {
   "cell_type": "code",
   "execution_count": 106,
   "id": "d53a9d33",
   "metadata": {
    "scrolled": true
   },
   "outputs": [
    {
     "data": {
      "image/png": "[encoded data removed]",
      "text/plain": [
       "<Figure size 720x576 with 1 Axes>"
      ]
     },
     "metadata": {
      "needs_background": "light"
     },
     "output_type": "display_data"
    }
   ],
   "source": [
    "# Function to plot the cost function against the iterations\n",
    "\n",
    "def redirect_wrapper(f, inp):\n",
    "    old_stdout = sys.stdout\n",
    "    new_stdout = io.StringIO()\n",
    "    sys.stdout = new_stdout\n",
    "\n",
    "    returned = f(inp)                #<- Call function\n",
    "    printed = new_stdout.getvalue()  #<- store printed output\n",
    "\n",
    "    sys.stdout = old_stdout\n",
    "    return returned, printed\n",
    "\n",
    "\n",
    "returned, printed = redirect_wrapper(ite_inertia, scaled_train_set)\n",
    "\n",
    "#Extract inertia values\n",
    "inertia = [float(i[i.find('inertia')+len('inertia')+1:]) for i in printed.split('\\n')[1:-2]]\n",
    "\n",
    "#Plot!\n",
    "plt.plot(inertia);"
   ]
  },
  {
   "cell_type": "markdown",
   "id": "77c77c44",
   "metadata": {},
   "source": [
    "### Accuracy Analysis"
   ]
  },
  {
   "cell_type": "code",
   "execution_count": 110,
   "id": "77c1168c",
   "metadata": {},
   "outputs": [
    {
     "data": {
      "text/html": [
       "<div>\n",
       "<style scoped>\n",
       "    .dataframe tbody tr th:only-of-type {\n",
       "        vertical-align: middle;\n",
       "    }\n",
       "\n",
       "    .dataframe tbody tr th {\n",
       "        vertical-align: top;\n",
       "    }\n",
       "\n",
       "    .dataframe thead th {\n",
       "        text-align: right;\n",
       "    }\n",
       "</style>\n",
       "<table border=\"1\" class=\"dataframe\">\n",
       "  <thead>\n",
       "    <tr style=\"text-align: right;\">\n",
       "      <th>KMeans Predicted Label</th>\n",
       "      <th>0</th>\n",
       "      <th>1</th>\n",
       "      <th>2</th>\n",
       "    </tr>\n",
       "    <tr>\n",
       "      <th>Actual Label</th>\n",
       "      <th></th>\n",
       "      <th></th>\n",
       "      <th></th>\n",
       "    </tr>\n",
       "  </thead>\n",
       "  <tbody>\n",
       "    <tr>\n",
       "      <th>1.0</th>\n",
       "      <td>2</td>\n",
       "      <td>60</td>\n",
       "      <td>4</td>\n",
       "    </tr>\n",
       "    <tr>\n",
       "      <th>2.0</th>\n",
       "      <td>0</td>\n",
       "      <td>3</td>\n",
       "      <td>64</td>\n",
       "    </tr>\n",
       "    <tr>\n",
       "      <th>3.0</th>\n",
       "      <td>57</td>\n",
       "      <td>8</td>\n",
       "      <td>0</td>\n",
       "    </tr>\n",
       "  </tbody>\n",
       "</table>\n",
       "</div>"
      ],
      "text/plain": [
       "KMeans Predicted Label   0   1   2\n",
       "Actual Label                      \n",
       "1.0                      2  60   4\n",
       "2.0                      0   3  64\n",
       "3.0                     57   8   0"
      ]
     },
     "execution_count": 110,
     "metadata": {},
     "output_type": "execute_result"
    }
   ],
   "source": [
    "pd.crosstab(train_label,kmeans_scaled_train_set.labels_, rownames=['Actual Label'], colnames=['KMeans Predicted Label'])"
   ]
  },
  {
   "cell_type": "code",
   "execution_count": 117,
   "id": "3f53ea3b",
   "metadata": {},
   "outputs": [
    {
     "data": {
      "image/png": "[encoded data removed]",
      "text/plain": [
       "<Figure size 720x576 with 2 Axes>"
      ]
     },
     "metadata": {},
     "output_type": "display_data"
    }
   ],
   "source": [
    "from sklearn.metrics import confusion_matrix\n",
    "\n",
    "cm = confusion_matrix(train_label,kmeans_scaled_train_set.labels_)\n",
    "\n",
    "\n",
    "import seaborn as sns; sns.set()\n",
    "\n",
    "ax = sns.heatmap(cm, annot=True, fmt=\"d\", cmap=\"Greens\")"
   ]
  },
  {
   "cell_type": "code",
   "execution_count": 119,
   "id": "62eb1b1b",
   "metadata": {},
   "outputs": [],
   "source": [
    "def cluster_acc(y_true, y_pred):\n",
    "    \"\"\"\n",
    "    Calculate clustering accuracy. Require scikit-learn installed\n",
    "    # Arguments\n",
    "        y: true labels, numpy.array with shape `(n_samples,)`\n",
    "        y_pred: predicted labels, numpy.array with shape `(n_samples,)`\n",
    "    # Return\n",
    "        accuracy, in [0,1]\n",
    "    \"\"\"\n",
    "    y_true = y_true.astype(np.int64)\n",
    "    assert y_pred.size == y_true.size\n",
    "    D = max(y_pred.max(), y_true.max()) + 1\n",
    "    w = np.zeros((D, D), dtype=np.int64)\n",
    "    for i in range(y_pred.size):\n",
    "        w[y_pred[i], y_true[i]] += 1\n",
    "    ind = linear_assignment(w.max() - w)\n",
    "    return sum([w[i, j] for i, j in ind]) * 1.0 / y_pred.size"
   ]
  },
  {
   "cell_type": "code",
   "execution_count": 120,
   "id": "03bba4e3",
   "metadata": {},
   "outputs": [
    {
     "ename": "NameError",
     "evalue": "name 'linear_assignment' is not defined",
     "output_type": "error",
     "traceback": [
      "\u001b[1;31m---------------------------------------------------------------------------\u001b[0m",
      "\u001b[1;31mNameError\u001b[0m                                 Traceback (most recent call last)",
      "\u001b[1;32m~\\AppData\\Local\\Temp/ipykernel_3548/127993757.py\u001b[0m in \u001b[0;36m<module>\u001b[1;34m\u001b[0m\n\u001b[1;32m----> 1\u001b[1;33m \u001b[0mcluster_acc\u001b[0m\u001b[1;33m(\u001b[0m\u001b[0mtrain_label\u001b[0m\u001b[1;33m,\u001b[0m\u001b[0mkmeans_scaled_train_set\u001b[0m\u001b[1;33m.\u001b[0m\u001b[0mlabels_\u001b[0m\u001b[1;33m)\u001b[0m\u001b[1;33m\u001b[0m\u001b[1;33m\u001b[0m\u001b[0m\n\u001b[0m",
      "\u001b[1;32m~\\AppData\\Local\\Temp/ipykernel_3548/2821795468.py\u001b[0m in \u001b[0;36mcluster_acc\u001b[1;34m(y_true, y_pred)\u001b[0m\n\u001b[0;32m     14\u001b[0m     \u001b[1;32mfor\u001b[0m \u001b[0mi\u001b[0m \u001b[1;32min\u001b[0m \u001b[0mrange\u001b[0m\u001b[1;33m(\u001b[0m\u001b[0my_pred\u001b[0m\u001b[1;33m.\u001b[0m\u001b[0msize\u001b[0m\u001b[1;33m)\u001b[0m\u001b[1;33m:\u001b[0m\u001b[1;33m\u001b[0m\u001b[1;33m\u001b[0m\u001b[0m\n\u001b[0;32m     15\u001b[0m         \u001b[0mw\u001b[0m\u001b[1;33m[\u001b[0m\u001b[0my_pred\u001b[0m\u001b[1;33m[\u001b[0m\u001b[0mi\u001b[0m\u001b[1;33m]\u001b[0m\u001b[1;33m,\u001b[0m \u001b[0my_true\u001b[0m\u001b[1;33m[\u001b[0m\u001b[0mi\u001b[0m\u001b[1;33m]\u001b[0m\u001b[1;33m]\u001b[0m \u001b[1;33m+=\u001b[0m \u001b[1;36m1\u001b[0m\u001b[1;33m\u001b[0m\u001b[1;33m\u001b[0m\u001b[0m\n\u001b[1;32m---> 16\u001b[1;33m     \u001b[0mind\u001b[0m \u001b[1;33m=\u001b[0m \u001b[0mlinear_assignment\u001b[0m\u001b[1;33m(\u001b[0m\u001b[0mw\u001b[0m\u001b[1;33m.\u001b[0m\u001b[0mmax\u001b[0m\u001b[1;33m(\u001b[0m\u001b[1;33m)\u001b[0m \u001b[1;33m-\u001b[0m \u001b[0mw\u001b[0m\u001b[1;33m)\u001b[0m\u001b[1;33m\u001b[0m\u001b[1;33m\u001b[0m\u001b[0m\n\u001b[0m\u001b[0;32m     17\u001b[0m     \u001b[1;32mreturn\u001b[0m \u001b[0msum\u001b[0m\u001b[1;33m(\u001b[0m\u001b[1;33m[\u001b[0m\u001b[0mw\u001b[0m\u001b[1;33m[\u001b[0m\u001b[0mi\u001b[0m\u001b[1;33m,\u001b[0m \u001b[0mj\u001b[0m\u001b[1;33m]\u001b[0m \u001b[1;32mfor\u001b[0m \u001b[0mi\u001b[0m\u001b[1;33m,\u001b[0m \u001b[0mj\u001b[0m \u001b[1;32min\u001b[0m \u001b[0mind\u001b[0m\u001b[1;33m]\u001b[0m\u001b[1;33m)\u001b[0m \u001b[1;33m*\u001b[0m \u001b[1;36m1.0\u001b[0m \u001b[1;33m/\u001b[0m \u001b[0my_pred\u001b[0m\u001b[1;33m.\u001b[0m\u001b[0msize\u001b[0m\u001b[1;33m\u001b[0m\u001b[1;33m\u001b[0m\u001b[0m\n",
      "\u001b[1;31mNameError\u001b[0m: name 'linear_assignment' is not defined"
     ]
    }
   ],
   "source": [
    "cluster_acc(train_label, kmeans_scaled_train_set.labels_)"
   ]
  },
  {
   "cell_type": "code",
   "execution_count": 107,
   "id": "48304782",
   "metadata": {
    "scrolled": false
   },
   "outputs": [
    {
     "name": "stdout",
     "output_type": "stream",
     "text": [
      "[1. 2. 3. 1. 3. 1. 2. 2. 1. 3. 2. 3. 2. 1. 2. 3. 2. 2. 3. 3. 2. 1. 2. 3.\n",
      " 1. 3. 2. 3. 1. 1. 1. 3. 2. 2. 1. 1. 1. 2. 1. 1. 2. 2. 2. 1. 3. 3. 1. 3.\n",
      " 1. 2. 1. 2. 2. 2. 2. 1. 1. 1. 2. 1. 1. 1. 2. 1. 1. 2. 1. 3. 3. 2. 3. 2.\n",
      " 2. 2. 3. 2. 3. 1. 1. 1. 2. 3. 3. 3. 2. 3. 1. 2. 3. 1. 2. 2. 2. 2. 2. 1.\n",
      " 3. 2. 3. 2. 3. 2. 3. 1. 2. 2. 2. 1. 1. 1. 3. 3. 1. 3. 3. 2. 3. 3. 2. 2.\n",
      " 3. 2. 3. 1. 3. 2. 2. 1. 3. 2. 2. 3. 1. 3. 2. 1. 3. 1. 1. 3. 3. 3. 3. 3.\n",
      " 3. 1. 3. 3. 1. 1. 1. 3. 3. 1. 1. 1. 1. 3. 3. 1. 2. 3. 3. 3. 2. 2. 2. 3.\n",
      " 1. 1. 3. 1. 3. 2. 1. 3. 1. 1. 3. 2. 1. 2. 1. 1. 3. 2. 1. 2. 2. 2. 2. 2.\n",
      " 1. 1. 3. 3. 3. 2.]\n"
     ]
    }
   ],
   "source": [
    "print(train_label)"
   ]
  },
  {
   "cell_type": "code",
   "execution_count": null,
   "id": "812190fc",
   "metadata": {},
   "outputs": [],
   "source": []
  },
  {
   "cell_type": "code",
   "execution_count": null,
   "id": "3c2914ff",
   "metadata": {},
   "outputs": [],
   "source": []
  },
  {
   "cell_type": "code",
   "execution_count": 44,
   "id": "e78419dd",
   "metadata": {
    "collapsed": true
   },
   "outputs": [
    {
     "data": {
      "image/png": "[encoded data removed]",
      "text/plain": [
       "<Figure size 432x288 with 8 Axes>"
      ]
     },
     "metadata": {
      "needs_background": "light"
     },
     "output_type": "display_data"
    }
   ],
   "source": [
    "fig, ax = plt.subplots(4,2)\n",
    "\n",
    "ax[0,0].plot(train_label,train_area, \"o\")\n",
    "ax[0,0].set_title(\"Area VS Label\")\n",
    "\n",
    "ax[0,1].plot(train_label,train_perimeter, \"o\")\n",
    "ax[0,1].set_title(\"Perimeter VS Label\")\n",
    "\n",
    "ax[1,0].plot(train_label,train_compaction, \"o\")\n",
    "ax[1,0].set_title(\"Compaction VS Label\")\n",
    "\n",
    "ax[1,1].plot(train_label,train_length1, \"o\")\n",
    "ax[1,1].set_title(\"Length VS Label\")\n",
    "\n",
    "ax[2,0].plot(train_label,train_width, \"o\")\n",
    "ax[2,0].set_title(\"Width VS Label\")\n",
    "\n",
    "ax[2,1].plot(train_label, train_asymmetry, \"o\")\n",
    "ax[2,1].set_title(\"Asymmetry VS Label\")\n",
    "\n",
    "ax[3,0].plot(train_label, train_length2, \"o\")\n",
    "ax[3,0].set_title(\"Length of Kerenel Groove VS Label\")\n",
    "\n",
    "\n",
    "for _ in ax.flat:\n",
    "    plt.xlabel='x-label'\n",
    "    plt.ylabel='y-label'\n",
    "    plt.fontsize=100\n",
    "\n",
    "\n",
    "plt.show()"
   ]
  },
  {
   "cell_type": "code",
   "execution_count": 47,
   "id": "4c2631c1",
   "metadata": {
    "collapsed": true
   },
   "outputs": [
    {
     "data": {
      "text/plain": [
       "<matplotlib.collections.PathCollection at 0x247a4f56820>"
      ]
     },
     "execution_count": 47,
     "metadata": {},
     "output_type": "execute_result"
    },
    {
     "data": {
      "image/png": "[encoded data removed]",
      "text/plain": [
       "<Figure size 720x576 with 1 Axes>"
      ]
     },
     "metadata": {
      "needs_background": "light"
     },
     "output_type": "display_data"
    }
   ],
   "source": [
    "#### Visualising the data\n",
    "\n",
    "plt.rcParams[\"figure.figsize\"]=(10,8)   # Changing the size of the plot\n",
    "\n",
    "# Changing the axis limit of the plot\n",
    "\n",
    "# plt.ylim(0,18)  # This is not what you'll use just leaving this here to check\n",
    "# plt.xlim(0,4)\n",
    "\n",
    "\n",
    "# Adding labels\n",
    "# plt.xlabel(\"Perimeter (p) \", fontsize=14)\n",
    "# plt.ylabel(\"Area (A) \", fontsize=14)\n",
    "\n",
    "\n",
    "\n",
    "\n",
    "plt.scatter(train_class,train_area,)   # Uses size and colour to represent the third and fourth variables\n",
    "\n",
    "\n",
    "# compaction*100, length, cmap=\"rainbow\"\n"
   ]
  },
  {
   "cell_type": "code",
   "execution_count": 36,
   "id": "004b4c17",
   "metadata": {
    "collapsed": true
   },
   "outputs": [
    {
     "data": {
      "text/plain": [
       "Text(0.5, 1.0, 'Area VS Label')"
      ]
     },
     "execution_count": 36,
     "metadata": {},
     "output_type": "execute_result"
    },
    {
     "data": {
      "image/png": "[encoded data removed]",
      "text/plain": [
       "<Figure size 432x288 with 8 Axes>"
      ]
     },
     "metadata": {
      "needs_background": "light"
     },
     "output_type": "display_data"
    }
   ],
   "source": [
    "fig, ax = plt.subplots(4,2)\n",
    "\n",
    "ax[0,0].plot(train_label,train_area, \"o\")\n",
    "ax[0,0].set_title(\"Area VS Label\")"
   ]
  },
  {
   "cell_type": "markdown",
   "id": "7e1ac9fd",
   "metadata": {},
   "source": [
    "## Conducting K Means for Training Set"
   ]
  },
  {
   "cell_type": "code",
   "execution_count": null,
   "id": "06e201a8",
   "metadata": {},
   "outputs": [],
   "source": [
    "fig, axs = plt.subplots(2, 2)\n",
    "axs[0, 0].plot(x, y)\n",
    "axs[0, 0].set_title('Axis [0, 0]')\n",
    "axs[0, 1].plot(x, y, 'tab:orange')\n",
    "axs[0, 1].set_title('Axis [0, 1]')\n",
    "axs[1, 0].plot(x, -y, 'tab:green')\n",
    "axs[1, 0].set_title('Axis [1, 0]')\n",
    "axs[1, 1].plot(x, -y, 'tab:red')\n",
    "axs[1, 1].set_title('Axis [1, 1]')\n",
    "\n",
    "fig.suptitle(\"Correlation relationship between all the features and the labels\"\n",
    "for _ in ax.flat:\n",
    "    ax.set(xlabel='x-label', ylabel='y-label')\n",
    "\n",
    "# Hide x labels and tick labels for top plots and y ticks for right plots.\n",
    "for ax in axs.flat:\n",
    "    ax.label_outer()\n",
    "\n",
    "\n",
    "\n"
   ]
  }
 ],
 "metadata": {
  "kernelspec": {
   "display_name": "Python 3 (ipykernel)",
   "language": "python",
   "name": "python3"
  },
  "language_info": {
   "codemirror_mode": {
    "name": "ipython",
    "version": 3
   },
   "file_extension": ".py",
   "mimetype": "text/x-python",
   "name": "python",
   "nbconvert_exporter": "python",
   "pygments_lexer": "ipython3",
   "version": "3.9.7"
  }
 },
 "nbformat": 4,
 "nbformat_minor": 5
}
