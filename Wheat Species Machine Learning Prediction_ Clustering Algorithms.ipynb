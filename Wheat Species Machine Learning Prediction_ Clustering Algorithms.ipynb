{
 "cells": [
  {
   "cell_type": "markdown",
   "id": "903f6616",
   "metadata": {},
   "source": [
    "## Importing Necessary Libraries\n"
   ]
  },
  {
   "cell_type": "code",
   "execution_count": 1,
   "id": "a574a147",
   "metadata": {},
   "outputs": [],
   "source": [
    "import matplotlib.pyplot as plt\n",
    "import pandas as pd\n",
    "import numpy as np\n",
    "from sklearn.cluster import KMeans\n",
    "from sklearn.decomposition import PCA\n",
    "import io\n",
    "import sys"
   ]
  },
  {
   "cell_type": "markdown",
   "id": "f0f056c1",
   "metadata": {},
   "source": [
    "## Importing the Training Dataset"
   ]
  },
  {
   "cell_type": "code",
   "execution_count": 2,
   "id": "160a030e",
   "metadata": {},
   "outputs": [],
   "source": [
    "train_set = pd.read_excel(\"seeds_dataset_Randomized_for_HW.xlsx\")"
   ]
  },
  {
   "cell_type": "markdown",
   "id": "c2a187fc",
   "metadata": {},
   "source": [
    "## Preliminary Data Description"
   ]
  },
  {
   "cell_type": "code",
   "execution_count": 3,
   "id": "d313c3f0",
   "metadata": {},
   "outputs": [
    {
     "data": {
      "text/html": [
       "<div>\n",
       "<style scoped>\n",
       "    .dataframe tbody tr th:only-of-type {\n",
       "        vertical-align: middle;\n",
       "    }\n",
       "\n",
       "    .dataframe tbody tr th {\n",
       "        vertical-align: top;\n",
       "    }\n",
       "\n",
       "    .dataframe thead th {\n",
       "        text-align: right;\n",
       "    }\n",
       "</style>\n",
       "<table border=\"1\" class=\"dataframe\">\n",
       "  <thead>\n",
       "    <tr style=\"text-align: right;\">\n",
       "      <th></th>\n",
       "      <th>Area</th>\n",
       "      <th>Perimeter</th>\n",
       "      <th>Compactness</th>\n",
       "      <th>Length</th>\n",
       "      <th>Width</th>\n",
       "      <th>Asymmetry</th>\n",
       "      <th>Length of kerenel groove</th>\n",
       "      <th>Class</th>\n",
       "    </tr>\n",
       "  </thead>\n",
       "  <tbody>\n",
       "    <tr>\n",
       "      <th>0</th>\n",
       "      <td>14.43</td>\n",
       "      <td>14.40</td>\n",
       "      <td>0.8751</td>\n",
       "      <td>5.585</td>\n",
       "      <td>3.272</td>\n",
       "      <td>3.975</td>\n",
       "      <td>5.144</td>\n",
       "      <td>1</td>\n",
       "    </tr>\n",
       "    <tr>\n",
       "      <th>1</th>\n",
       "      <td>18.95</td>\n",
       "      <td>16.42</td>\n",
       "      <td>0.8829</td>\n",
       "      <td>6.248</td>\n",
       "      <td>3.755</td>\n",
       "      <td>3.368</td>\n",
       "      <td>6.148</td>\n",
       "      <td>2</td>\n",
       "    </tr>\n",
       "    <tr>\n",
       "      <th>2</th>\n",
       "      <td>12.76</td>\n",
       "      <td>13.38</td>\n",
       "      <td>0.8964</td>\n",
       "      <td>5.073</td>\n",
       "      <td>3.155</td>\n",
       "      <td>2.828</td>\n",
       "      <td>4.830</td>\n",
       "      <td>3</td>\n",
       "    </tr>\n",
       "    <tr>\n",
       "      <th>3</th>\n",
       "      <td>12.11</td>\n",
       "      <td>13.47</td>\n",
       "      <td>0.8392</td>\n",
       "      <td>5.159</td>\n",
       "      <td>3.032</td>\n",
       "      <td>1.502</td>\n",
       "      <td>4.519</td>\n",
       "      <td>1</td>\n",
       "    </tr>\n",
       "    <tr>\n",
       "      <th>4</th>\n",
       "      <td>12.05</td>\n",
       "      <td>13.41</td>\n",
       "      <td>0.8416</td>\n",
       "      <td>5.267</td>\n",
       "      <td>2.847</td>\n",
       "      <td>4.988</td>\n",
       "      <td>5.046</td>\n",
       "      <td>3</td>\n",
       "    </tr>\n",
       "  </tbody>\n",
       "</table>\n",
       "</div>"
      ],
      "text/plain": [
       "    Area  Perimeter  Compactness  Length  Width  Asymmetry  \\\n",
       "0  14.43      14.40       0.8751   5.585  3.272      3.975   \n",
       "1  18.95      16.42       0.8829   6.248  3.755      3.368   \n",
       "2  12.76      13.38       0.8964   5.073  3.155      2.828   \n",
       "3  12.11      13.47       0.8392   5.159  3.032      1.502   \n",
       "4  12.05      13.41       0.8416   5.267  2.847      4.988   \n",
       "\n",
       "   Length of kerenel groove  Class  \n",
       "0                     5.144      1  \n",
       "1                     6.148      2  \n",
       "2                     4.830      3  \n",
       "3                     4.519      1  \n",
       "4                     5.046      3  "
      ]
     },
     "execution_count": 3,
     "metadata": {},
     "output_type": "execute_result"
    }
   ],
   "source": [
    "train_set.head()   # Preliminary display of data set"
   ]
  },
  {
   "cell_type": "code",
   "execution_count": 4,
   "id": "3c688eb4",
   "metadata": {},
   "outputs": [
    {
     "data": {
      "text/html": [
       "<div>\n",
       "<style scoped>\n",
       "    .dataframe tbody tr th:only-of-type {\n",
       "        vertical-align: middle;\n",
       "    }\n",
       "\n",
       "    .dataframe tbody tr th {\n",
       "        vertical-align: top;\n",
       "    }\n",
       "\n",
       "    .dataframe thead th {\n",
       "        text-align: right;\n",
       "    }\n",
       "</style>\n",
       "<table border=\"1\" class=\"dataframe\">\n",
       "  <thead>\n",
       "    <tr style=\"text-align: right;\">\n",
       "      <th></th>\n",
       "      <th>Area</th>\n",
       "      <th>Perimeter</th>\n",
       "      <th>Compactness</th>\n",
       "      <th>Length</th>\n",
       "      <th>Width</th>\n",
       "      <th>Asymmetry</th>\n",
       "      <th>Length of kerenel groove</th>\n",
       "      <th>Class</th>\n",
       "    </tr>\n",
       "  </thead>\n",
       "  <tbody>\n",
       "    <tr>\n",
       "      <th>count</th>\n",
       "      <td>198.000000</td>\n",
       "      <td>198.000000</td>\n",
       "      <td>198.000000</td>\n",
       "      <td>198.000000</td>\n",
       "      <td>198.000000</td>\n",
       "      <td>198.000000</td>\n",
       "      <td>198.000000</td>\n",
       "      <td>198.000000</td>\n",
       "    </tr>\n",
       "    <tr>\n",
       "      <th>mean</th>\n",
       "      <td>14.868485</td>\n",
       "      <td>14.568939</td>\n",
       "      <td>0.871062</td>\n",
       "      <td>5.632374</td>\n",
       "      <td>3.261237</td>\n",
       "      <td>3.659748</td>\n",
       "      <td>5.411753</td>\n",
       "      <td>1.994949</td>\n",
       "    </tr>\n",
       "    <tr>\n",
       "      <th>std</th>\n",
       "      <td>2.912254</td>\n",
       "      <td>1.307944</td>\n",
       "      <td>0.023719</td>\n",
       "      <td>0.444037</td>\n",
       "      <td>0.378294</td>\n",
       "      <td>1.492139</td>\n",
       "      <td>0.490131</td>\n",
       "      <td>0.815444</td>\n",
       "    </tr>\n",
       "    <tr>\n",
       "      <th>min</th>\n",
       "      <td>10.590000</td>\n",
       "      <td>12.410000</td>\n",
       "      <td>0.808100</td>\n",
       "      <td>4.899000</td>\n",
       "      <td>2.630000</td>\n",
       "      <td>0.765100</td>\n",
       "      <td>4.519000</td>\n",
       "      <td>1.000000</td>\n",
       "    </tr>\n",
       "    <tr>\n",
       "      <th>25%</th>\n",
       "      <td>12.230000</td>\n",
       "      <td>13.450000</td>\n",
       "      <td>0.856900</td>\n",
       "      <td>5.253000</td>\n",
       "      <td>2.944000</td>\n",
       "      <td>2.472500</td>\n",
       "      <td>5.045250</td>\n",
       "      <td>1.000000</td>\n",
       "    </tr>\n",
       "    <tr>\n",
       "      <th>50%</th>\n",
       "      <td>14.405000</td>\n",
       "      <td>14.380000</td>\n",
       "      <td>0.873100</td>\n",
       "      <td>5.534000</td>\n",
       "      <td>3.243500</td>\n",
       "      <td>3.597500</td>\n",
       "      <td>5.223000</td>\n",
       "      <td>2.000000</td>\n",
       "    </tr>\n",
       "    <tr>\n",
       "      <th>75%</th>\n",
       "      <td>17.305000</td>\n",
       "      <td>15.715000</td>\n",
       "      <td>0.887325</td>\n",
       "      <td>5.993500</td>\n",
       "      <td>3.561750</td>\n",
       "      <td>4.695750</td>\n",
       "      <td>5.878500</td>\n",
       "      <td>3.000000</td>\n",
       "    </tr>\n",
       "    <tr>\n",
       "      <th>max</th>\n",
       "      <td>21.180000</td>\n",
       "      <td>17.250000</td>\n",
       "      <td>0.918300</td>\n",
       "      <td>6.675000</td>\n",
       "      <td>4.033000</td>\n",
       "      <td>8.456000</td>\n",
       "      <td>6.550000</td>\n",
       "      <td>3.000000</td>\n",
       "    </tr>\n",
       "  </tbody>\n",
       "</table>\n",
       "</div>"
      ],
      "text/plain": [
       "             Area   Perimeter  Compactness      Length       Width  \\\n",
       "count  198.000000  198.000000   198.000000  198.000000  198.000000   \n",
       "mean    14.868485   14.568939     0.871062    5.632374    3.261237   \n",
       "std      2.912254    1.307944     0.023719    0.444037    0.378294   \n",
       "min     10.590000   12.410000     0.808100    4.899000    2.630000   \n",
       "25%     12.230000   13.450000     0.856900    5.253000    2.944000   \n",
       "50%     14.405000   14.380000     0.873100    5.534000    3.243500   \n",
       "75%     17.305000   15.715000     0.887325    5.993500    3.561750   \n",
       "max     21.180000   17.250000     0.918300    6.675000    4.033000   \n",
       "\n",
       "        Asymmetry  Length of kerenel groove       Class  \n",
       "count  198.000000                198.000000  198.000000  \n",
       "mean     3.659748                  5.411753    1.994949  \n",
       "std      1.492139                  0.490131    0.815444  \n",
       "min      0.765100                  4.519000    1.000000  \n",
       "25%      2.472500                  5.045250    1.000000  \n",
       "50%      3.597500                  5.223000    2.000000  \n",
       "75%      4.695750                  5.878500    3.000000  \n",
       "max      8.456000                  6.550000    3.000000  "
      ]
     },
     "execution_count": 4,
     "metadata": {},
     "output_type": "execute_result"
    }
   ],
   "source": [
    "train_set.describe()  # Summary statistics of data set"
   ]
  },
  {
   "cell_type": "code",
   "execution_count": 5,
   "id": "a6a32b49",
   "metadata": {},
   "outputs": [
    {
     "name": "stdout",
     "output_type": "stream",
     "text": [
      "<class 'pandas.core.frame.DataFrame'>\n",
      "RangeIndex: 198 entries, 0 to 197\n",
      "Data columns (total 8 columns):\n",
      " #   Column                    Non-Null Count  Dtype  \n",
      "---  ------                    --------------  -----  \n",
      " 0   Area                      198 non-null    float64\n",
      " 1   Perimeter                 198 non-null    float64\n",
      " 2   Compactness               198 non-null    float64\n",
      " 3   Length                    198 non-null    float64\n",
      " 4   Width                     198 non-null    float64\n",
      " 5   Asymmetry                 198 non-null    float64\n",
      " 6   Length of kerenel groove  198 non-null    float64\n",
      " 7   Class                     198 non-null    int64  \n",
      "dtypes: float64(7), int64(1)\n",
      "memory usage: 12.5 KB\n"
     ]
    }
   ],
   "source": [
    "train_set.info()  # Checks for data types contained within each colum and assesses completeness"
   ]
  },
  {
   "cell_type": "markdown",
   "id": "8d2302c7",
   "metadata": {},
   "source": [
    "## Statistical Feature Selection"
   ]
  },
  {
   "cell_type": "markdown",
   "id": "482fd282",
   "metadata": {},
   "source": [
    "##### Data preparation visualisation"
   ]
  },
  {
   "cell_type": "code",
   "execution_count": 12,
   "id": "fc6fa55b",
   "metadata": {},
   "outputs": [
    {
     "name": "stdout",
     "output_type": "stream",
     "text": [
      "[[14.43   14.4     0.8751 ...  3.975   5.144   1.    ]\n",
      " [18.95   16.42    0.8829 ...  3.368   6.148   2.    ]\n",
      " [12.76   13.38    0.8964 ...  2.828   4.83    3.    ]\n",
      " ...\n",
      " [12.62   13.67    0.8481 ...  3.306   5.231   3.    ]\n",
      " [11.83   13.23    0.8496 ...  5.195   5.307   3.    ]\n",
      " [17.36   15.76    0.8785 ...  3.526   5.971   2.    ]]\n"
     ]
    }
   ],
   "source": [
    "train_set_arrays = np.asarray(train_set) # Converting the training set into numpy array for visualisation\n",
    "print(train_set_arrays)\n"
   ]
  },
  {
   "cell_type": "code",
   "execution_count": 23,
   "id": "a5fe0ca6",
   "metadata": {},
   "outputs": [],
   "source": [
    "# Assigning variables to the column of the numpy area\n",
    "train_area=train_set_arrays[:,0]\n",
    "train_perimeter=train_set_arrays[:,1]\n",
    "train_compaction=train_set_arrays[:,2]\n",
    "train_length1=train_set_arrays[:,3]\n",
    "train_width=train_set_arrays[:,4]\n",
    "train_asymmetry=train_set_arrays[:,5]\n",
    "train_length2=train_set_arrays[:,6]\n",
    "train_label=train_set_arrays[:,7]"
   ]
  },
  {
   "cell_type": "code",
   "execution_count": 49,
   "id": "e3d3c04b",
   "metadata": {},
   "outputs": [
    {
     "data": {
      "text/plain": [
       "[<matplotlib.lines.Line2D at 0x247acb67250>]"
      ]
     },
     "execution_count": 49,
     "metadata": {},
     "output_type": "execute_result"
    },
    {
     "data": {
      "image/png": "[encoded data removed]",
      "text/plain": [
       "<Figure size 720x576 with 2 Axes>"
      ]
     },
     "metadata": {
      "needs_background": "light"
     },
     "output_type": "display_data"
    }
   ],
   "source": [
    "fig, ab = plt.subplots(2)\n",
    "\n",
    "ab[0].plot(train_label,train_area, \"o\")\n",
    "ab[1].plot(train_label,train_perimeter, \"o\")"
   ]
  },
  {
   "cell_type": "code",
   "execution_count": 55,
   "id": "398eb91e",
   "metadata": {},
   "outputs": [
    {
     "data": {
      "image/png": "[encoded data removed]",
      "text/plain": [
       "<Figure size 720x576 with 2 Axes>"
      ]
     },
     "metadata": {
      "needs_background": "light"
     },
     "output_type": "display_data"
    }
   ],
   "source": [
    "fig, cd = plt.subplots(2)\n",
    "\n",
    "cd[0].plot(train_label,train_compaction, \"o\")\n",
    "cd[1].plot(train_label,train_length1, \"o\");"
   ]
  },
  {
   "cell_type": "code",
   "execution_count": 54,
   "id": "e3df6bb9",
   "metadata": {},
   "outputs": [
    {
     "data": {
      "image/png": "[encoded data removed]",
      "text/plain": [
       "<Figure size 720x576 with 2 Axes>"
      ]
     },
     "metadata": {
      "needs_background": "light"
     },
     "output_type": "display_data"
    }
   ],
   "source": [
    "fig, ef = plt.subplots(2)\n",
    "\n",
    "ef[0].plot(train_label,train_width, \"o\")\n",
    "ef[1].plot(train_label,train_asymmetry, \"o\");\n"
   ]
  },
  {
   "cell_type": "code",
   "execution_count": 59,
   "id": "11c71783",
   "metadata": {},
   "outputs": [
    {
     "data": {
      "image/png": "[encoded data removed]",
      "text/plain": [
       "<Figure size 720x576 with 1 Axes>"
      ]
     },
     "metadata": {
      "needs_background": "light"
     },
     "output_type": "display_data"
    }
   ],
   "source": [
    "fig, g = plt.subplots()\n",
    "\n",
    "g.plot(train_label,train_length2, \"o\");"
   ]
  },
  {
   "cell_type": "markdown",
   "id": "41f7044a",
   "metadata": {},
   "source": [
    "### Using Pearson's corelation coefficient"
   ]
  },
  {
   "cell_type": "code",
   "execution_count": 71,
   "id": "224d88e4",
   "metadata": {},
   "outputs": [],
   "source": [
    "\n",
    "area = np.corrcoef(train_label,train_area)\n",
    "\n",
    "perimeter = np.corrcoef(train_label,train_perimeter)\n",
    "\n",
    "compaction = np.corrcoef(train_label,train_compaction)\n",
    "\n",
    "length1 = np.corrcoef(train_label,train_length1, \"o\")\n",
    "\n",
    "width = np.corrcoef(train_label,train_width)\n",
    "\n",
    "asymmetry = np.corrcoef(train_label, train_asymmetry)\n",
    "\n",
    "length2 = np.corrcoef(train_label, train_length2)"
   ]
  },
  {
   "cell_type": "code",
   "execution_count": 79,
   "id": "1380d251",
   "metadata": {},
   "outputs": [
    {
     "name": "stdout",
     "output_type": "stream",
     "text": [
      "[[ 1.         -0.35102688]\n",
      " [-0.35102688  1.        ]]\n"
     ]
    }
   ],
   "source": [
    "print(area)"
   ]
  },
  {
   "cell_type": "code",
   "execution_count": 80,
   "id": "1b4f5aa4",
   "metadata": {},
   "outputs": [
    {
     "name": "stdout",
     "output_type": "stream",
     "text": [
      "[[ 1.         -0.33554134]\n",
      " [-0.33554134  1.        ]]\n"
     ]
    }
   ],
   "source": [
    "print(perimeter)"
   ]
  },
  {
   "cell_type": "code",
   "execution_count": 81,
   "id": "0d66cd6c",
   "metadata": {
    "scrolled": true
   },
   "outputs": [
    {
     "name": "stdout",
     "output_type": "stream",
     "text": [
      "[[ 1.         -0.51740061]\n",
      " [-0.51740061  1.        ]]\n"
     ]
    }
   ],
   "source": [
    "print(compaction)"
   ]
  },
  {
   "cell_type": "code",
   "execution_count": 82,
   "id": "78dd1a6c",
   "metadata": {},
   "outputs": [
    {
     "name": "stdout",
     "output_type": "stream",
     "text": [
      "[[ 1.         -0.26568481]\n",
      " [-0.26568481  1.        ]]\n"
     ]
    }
   ],
   "source": [
    "print(length1)"
   ]
  },
  {
   "cell_type": "code",
   "execution_count": 83,
   "id": "342cf7d7",
   "metadata": {},
   "outputs": [
    {
     "name": "stdout",
     "output_type": "stream",
     "text": [
      "[[ 1.         -0.42599539]\n",
      " [-0.42599539  1.        ]]\n"
     ]
    }
   ],
   "source": [
    "print(width)"
   ]
  },
  {
   "cell_type": "code",
   "execution_count": 84,
   "id": "662dfd15",
   "metadata": {},
   "outputs": [
    {
     "name": "stdout",
     "output_type": "stream",
     "text": [
      "[[1.         0.56680018]\n",
      " [0.56680018 1.        ]]\n"
     ]
    }
   ],
   "source": [
    "print(asymmetry)"
   ]
  },
  {
   "cell_type": "code",
   "execution_count": 85,
   "id": "8eb9beb5",
   "metadata": {},
   "outputs": [
    {
     "name": "stdout",
     "output_type": "stream",
     "text": [
      "[[1.         0.00959859]\n",
      " [0.00959859 1.        ]]\n"
     ]
    }
   ],
   "source": [
    "print(length2)"
   ]
  },
  {
   "cell_type": "markdown",
   "id": "ff027f97",
   "metadata": {},
   "source": [
    "### Feature scaling was carried out on scale using the mean nomalisation methods"
   ]
  },
  {
   "cell_type": "code",
   "execution_count": 191,
   "id": "3c12b532",
   "metadata": {},
   "outputs": [],
   "source": [
    "scaled_train_set = pd.read_excel(\"Normalised_dataset_Randomised_for_HW.xlsx\")  # Loading the scaled features"
   ]
  },
  {
   "cell_type": "code",
   "execution_count": 192,
   "id": "bda0374c",
   "metadata": {},
   "outputs": [
    {
     "data": {
      "text/html": [
       "<div>\n",
       "<style scoped>\n",
       "    .dataframe tbody tr th:only-of-type {\n",
       "        vertical-align: middle;\n",
       "    }\n",
       "\n",
       "    .dataframe tbody tr th {\n",
       "        vertical-align: top;\n",
       "    }\n",
       "\n",
       "    .dataframe thead th {\n",
       "        text-align: right;\n",
       "    }\n",
       "</style>\n",
       "<table border=\"1\" class=\"dataframe\">\n",
       "  <thead>\n",
       "    <tr style=\"text-align: right;\">\n",
       "      <th></th>\n",
       "      <th>Normalised Area</th>\n",
       "      <th>Normalised Compaction</th>\n",
       "      <th>Normalised Length</th>\n",
       "      <th>Normalised  Width</th>\n",
       "      <th>Normalised Asymmetry</th>\n",
       "      <th>Normalised Length of kerenel groove</th>\n",
       "    </tr>\n",
       "  </thead>\n",
       "  <tbody>\n",
       "    <tr>\n",
       "      <th>0</th>\n",
       "      <td>-0.150566</td>\n",
       "      <td>0.170243</td>\n",
       "      <td>-0.106689</td>\n",
       "      <td>0.028451</td>\n",
       "      <td>0.211275</td>\n",
       "      <td>-0.546289</td>\n",
       "    </tr>\n",
       "    <tr>\n",
       "      <th>1</th>\n",
       "      <td>1.401497</td>\n",
       "      <td>0.499094</td>\n",
       "      <td>1.386423</td>\n",
       "      <td>1.305236</td>\n",
       "      <td>-0.195523</td>\n",
       "      <td>1.502143</td>\n",
       "    </tr>\n",
       "    <tr>\n",
       "      <th>2</th>\n",
       "      <td>-0.724004</td>\n",
       "      <td>1.068258</td>\n",
       "      <td>-1.259741</td>\n",
       "      <td>-0.280832</td>\n",
       "      <td>-0.557420</td>\n",
       "      <td>-1.186934</td>\n",
       "    </tr>\n",
       "    <tr>\n",
       "      <th>3</th>\n",
       "      <td>-0.947199</td>\n",
       "      <td>-1.343311</td>\n",
       "      <td>-1.066064</td>\n",
       "      <td>-0.605976</td>\n",
       "      <td>-1.446077</td>\n",
       "      <td>-1.821458</td>\n",
       "    </tr>\n",
       "    <tr>\n",
       "      <th>4</th>\n",
       "      <td>-0.967802</td>\n",
       "      <td>-1.242127</td>\n",
       "      <td>-0.822842</td>\n",
       "      <td>-1.095013</td>\n",
       "      <td>0.890166</td>\n",
       "      <td>-0.746235</td>\n",
       "    </tr>\n",
       "  </tbody>\n",
       "</table>\n",
       "</div>"
      ],
      "text/plain": [
       "   Normalised Area  Normalised Compaction  Normalised Length  \\\n",
       "0        -0.150566               0.170243          -0.106689   \n",
       "1         1.401497               0.499094           1.386423   \n",
       "2        -0.724004               1.068258          -1.259741   \n",
       "3        -0.947199              -1.343311          -1.066064   \n",
       "4        -0.967802              -1.242127          -0.822842   \n",
       "\n",
       "   Normalised  Width  Normalised Asymmetry  \\\n",
       "0           0.028451              0.211275   \n",
       "1           1.305236             -0.195523   \n",
       "2          -0.280832             -0.557420   \n",
       "3          -0.605976             -1.446077   \n",
       "4          -1.095013              0.890166   \n",
       "\n",
       "   Normalised Length of kerenel groove  \n",
       "0                            -0.546289  \n",
       "1                             1.502143  \n",
       "2                            -1.186934  \n",
       "3                            -1.821458  \n",
       "4                            -0.746235  "
      ]
     },
     "execution_count": 192,
     "metadata": {},
     "output_type": "execute_result"
    }
   ],
   "source": [
    "scaled_train_set.head()   # Preliminary display of data set"
   ]
  },
  {
   "cell_type": "code",
   "execution_count": 193,
   "id": "a2fe8841",
   "metadata": {},
   "outputs": [
    {
     "data": {
      "text/html": [
       "<div>\n",
       "<style scoped>\n",
       "    .dataframe tbody tr th:only-of-type {\n",
       "        vertical-align: middle;\n",
       "    }\n",
       "\n",
       "    .dataframe tbody tr th {\n",
       "        vertical-align: top;\n",
       "    }\n",
       "\n",
       "    .dataframe thead th {\n",
       "        text-align: right;\n",
       "    }\n",
       "</style>\n",
       "<table border=\"1\" class=\"dataframe\">\n",
       "  <thead>\n",
       "    <tr style=\"text-align: right;\">\n",
       "      <th></th>\n",
       "      <th>Normalised Area</th>\n",
       "      <th>Normalised Compaction</th>\n",
       "      <th>Normalised Length</th>\n",
       "      <th>Normalised  Width</th>\n",
       "      <th>Normalised Asymmetry</th>\n",
       "      <th>Normalised Length of kerenel groove</th>\n",
       "    </tr>\n",
       "  </thead>\n",
       "  <tbody>\n",
       "    <tr>\n",
       "      <th>count</th>\n",
       "      <td>1.980000e+02</td>\n",
       "      <td>198.000000</td>\n",
       "      <td>1.980000e+02</td>\n",
       "      <td>1.980000e+02</td>\n",
       "      <td>1.980000e+02</td>\n",
       "      <td>1.980000e+02</td>\n",
       "    </tr>\n",
       "    <tr>\n",
       "      <th>mean</th>\n",
       "      <td>-5.202676e-08</td>\n",
       "      <td>-0.000016</td>\n",
       "      <td>-5.914486e-07</td>\n",
       "      <td>9.879548e-07</td>\n",
       "      <td>3.249352e-07</td>\n",
       "      <td>-9.686134e-07</td>\n",
       "    </tr>\n",
       "    <tr>\n",
       "      <th>std</th>\n",
       "      <td>1.000000e+00</td>\n",
       "      <td>0.999999</td>\n",
       "      <td>9.999960e-01</td>\n",
       "      <td>9.999995e-01</td>\n",
       "      <td>1.000000e+00</td>\n",
       "      <td>9.999994e-01</td>\n",
       "    </tr>\n",
       "    <tr>\n",
       "      <th>min</th>\n",
       "      <td>-1.469132e+00</td>\n",
       "      <td>-2.654496</td>\n",
       "      <td>-1.651598e+00</td>\n",
       "      <td>-1.668641e+00</td>\n",
       "      <td>-1.939932e+00</td>\n",
       "      <td>-1.821458e+00</td>\n",
       "    </tr>\n",
       "    <tr>\n",
       "      <th>25%</th>\n",
       "      <td>-9.059941e-01</td>\n",
       "      <td>-0.597074</td>\n",
       "      <td>-8.543709e-01</td>\n",
       "      <td>-8.385991e-01</td>\n",
       "      <td>-7.956685e-01</td>\n",
       "      <td>-7.477654e-01</td>\n",
       "    </tr>\n",
       "    <tr>\n",
       "      <th>50%</th>\n",
       "      <td>-1.591499e-01</td>\n",
       "      <td>0.085923</td>\n",
       "      <td>-2.215436e-01</td>\n",
       "      <td>-4.688681e-02</td>\n",
       "      <td>-4.171729e-02</td>\n",
       "      <td>-3.851072e-01</td>\n",
       "    </tr>\n",
       "    <tr>\n",
       "      <th>75%</th>\n",
       "      <td>8.366423e-01</td>\n",
       "      <td>0.685653</td>\n",
       "      <td>8.132754e-01</td>\n",
       "      <td>7.943901e-01</td>\n",
       "      <td>6.943066e-01</td>\n",
       "      <td>9.522903e-01</td>\n",
       "    </tr>\n",
       "    <tr>\n",
       "      <th>max</th>\n",
       "      <td>2.167227e+00</td>\n",
       "      <td>1.991568</td>\n",
       "      <td>2.348051e+00</td>\n",
       "      <td>2.040114e+00</td>\n",
       "      <td>3.214347e+00</td>\n",
       "      <td>2.322332e+00</td>\n",
       "    </tr>\n",
       "  </tbody>\n",
       "</table>\n",
       "</div>"
      ],
      "text/plain": [
       "       Normalised Area  Normalised Compaction  Normalised Length  \\\n",
       "count     1.980000e+02             198.000000       1.980000e+02   \n",
       "mean     -5.202676e-08              -0.000016      -5.914486e-07   \n",
       "std       1.000000e+00               0.999999       9.999960e-01   \n",
       "min      -1.469132e+00              -2.654496      -1.651598e+00   \n",
       "25%      -9.059941e-01              -0.597074      -8.543709e-01   \n",
       "50%      -1.591499e-01               0.085923      -2.215436e-01   \n",
       "75%       8.366423e-01               0.685653       8.132754e-01   \n",
       "max       2.167227e+00               1.991568       2.348051e+00   \n",
       "\n",
       "       Normalised  Width  Normalised Asymmetry  \\\n",
       "count       1.980000e+02          1.980000e+02   \n",
       "mean        9.879548e-07          3.249352e-07   \n",
       "std         9.999995e-01          1.000000e+00   \n",
       "min        -1.668641e+00         -1.939932e+00   \n",
       "25%        -8.385991e-01         -7.956685e-01   \n",
       "50%        -4.688681e-02         -4.171729e-02   \n",
       "75%         7.943901e-01          6.943066e-01   \n",
       "max         2.040114e+00          3.214347e+00   \n",
       "\n",
       "       Normalised Length of kerenel groove  \n",
       "count                         1.980000e+02  \n",
       "mean                         -9.686134e-07  \n",
       "std                           9.999994e-01  \n",
       "min                          -1.821458e+00  \n",
       "25%                          -7.477654e-01  \n",
       "50%                          -3.851072e-01  \n",
       "75%                           9.522903e-01  \n",
       "max                           2.322332e+00  "
      ]
     },
     "execution_count": 193,
     "metadata": {},
     "output_type": "execute_result"
    }
   ],
   "source": [
    "scaled_train_set.describe()  # Summary statistics of data set"
   ]
  },
  {
   "cell_type": "markdown",
   "id": "e7e89fc6",
   "metadata": {},
   "source": [
    "## KMEANS CLUSTERING"
   ]
  },
  {
   "cell_type": "markdown",
   "id": "b21f8862",
   "metadata": {},
   "source": [
    "### Determining the Number of Clusters Using the Elbow Method"
   ]
  },
  {
   "cell_type": "code",
   "execution_count": 202,
   "id": "7bcc8964",
   "metadata": {
    "scrolled": true
   },
   "outputs": [
    {
     "name": "stderr",
     "output_type": "stream",
     "text": [
      "C:\\Users\\user\\anaconda3\\lib\\site-packages\\sklearn\\cluster\\_kmeans.py:881: UserWarning: KMeans is known to have a memory leak on Windows with MKL, when there are less chunks than available threads. You can avoid it by setting the environment variable OMP_NUM_THREADS=1.\n",
      "  warnings.warn(\n"
     ]
    }
   ],
   "source": [
    "import os\n",
    "os.environ[\"OMP_NUM_THREADS\"] = '1'\n",
    "distortions = []\n",
    "K = range(1,10)\n",
    "for k in K:\n",
    "    kmeanModel = KMeans(n_clusters=k)\n",
    "    kmeanModel.fit(scaled_train_set)\n",
    "    distortions.append(kmeanModel.inertia_)"
   ]
  },
  {
   "cell_type": "code",
   "execution_count": 215,
   "id": "cb035b5c",
   "metadata": {},
   "outputs": [
    {
     "name": "stderr",
     "output_type": "stream",
     "text": [
      "C:\\Users\\user\\anaconda3\\lib\\site-packages\\sklearn\\cluster\\_kmeans.py:881: UserWarning: KMeans is known to have a memory leak on Windows with MKL, when there are less chunks than available threads. You can avoid it by setting the environment variable OMP_NUM_THREADS=1.\n",
      "  warnings.warn(\n"
     ]
    },
    {
     "ename": "TypeError",
     "evalue": "'str' object is not callable",
     "output_type": "error",
     "traceback": [
      "\u001b[1;31m---------------------------------------------------------------------------\u001b[0m",
      "\u001b[1;31mTypeError\u001b[0m                                 Traceback (most recent call last)",
      "\u001b[1;32m~\\AppData\\Local\\Temp/ipykernel_3548/3293723437.py\u001b[0m in \u001b[0;36m<module>\u001b[1;34m\u001b[0m\n\u001b[0;32m     10\u001b[0m \u001b[0mplt\u001b[0m\u001b[1;33m.\u001b[0m\u001b[0mplot\u001b[0m\u001b[1;33m(\u001b[0m\u001b[0mrange\u001b[0m\u001b[1;33m(\u001b[0m\u001b[1;36m1\u001b[0m\u001b[1;33m,\u001b[0m\u001b[1;36m11\u001b[0m\u001b[1;33m)\u001b[0m\u001b[1;33m,\u001b[0m \u001b[0mN\u001b[0m\u001b[1;33m)\u001b[0m\u001b[1;33m\u001b[0m\u001b[1;33m\u001b[0m\u001b[0m\n\u001b[0;32m     11\u001b[0m \u001b[0mplt\u001b[0m\u001b[1;33m.\u001b[0m\u001b[0mtitle\u001b[0m\u001b[1;33m(\u001b[0m\u001b[1;34m\"Elbow Methods\"\u001b[0m\u001b[1;33m)\u001b[0m\u001b[1;33m\u001b[0m\u001b[1;33m\u001b[0m\u001b[0m\n\u001b[1;32m---> 12\u001b[1;33m \u001b[0mplt\u001b[0m\u001b[1;33m.\u001b[0m\u001b[0mxlabel\u001b[0m\u001b[1;33m(\u001b[0m\u001b[1;34m\"Number of Clusters\"\u001b[0m\u001b[1;33m)\u001b[0m\u001b[1;33m\u001b[0m\u001b[1;33m\u001b[0m\u001b[0m\n\u001b[0m\u001b[0;32m     13\u001b[0m \u001b[0mplt\u001b[0m\u001b[1;33m.\u001b[0m\u001b[0mylabel\u001b[0m\u001b[1;33m(\u001b[0m\u001b[1;34m\"N\"\u001b[0m\u001b[1;33m)\u001b[0m\u001b[1;33m\u001b[0m\u001b[1;33m\u001b[0m\u001b[0m\n",
      "\u001b[1;31mTypeError\u001b[0m: 'str' object is not callable"
     ]
    },
    {
     "data": {
      "image/png": "[encoded data removed]",
      "text/plain": [
       "<Figure size 720x576 with 1 Axes>"
      ]
     },
     "metadata": {},
     "output_type": "display_data"
    }
   ],
   "source": [
    "N = []\n",
    "import os\n",
    "os.environ[\"OMP_NUM_THREADS\"] = '1'\n",
    "for _ in range(1,11):\n",
    "    kmeans = KMeans(n_clusters=_,\n",
    "    init = \"k-means++\", max_iter=100, n_init=10)\n",
    "    kmeans.fit(scaled_train_set)\n",
    "    N.append(kmeans.inertia_)\n",
    "    \n",
    "plt.plot(range(1,11), N)\n",
    "plt.title(\"Elbow Methods\")\n",
    "plt.xlabel(\"Number of Clusters\")\n",
    "plt.ylabel(\"N\")"
   ]
  },
  {
   "cell_type": "code",
   "execution_count": 203,
   "id": "0b850bff",
   "metadata": {},
   "outputs": [
    {
     "data": {
      "text/plain": [
       "377.81019252168403"
      ]
     },
     "execution_count": 203,
     "metadata": {},
     "output_type": "execute_result"
    }
   ],
   "source": [
    "kmeans_scaled_train_set.inertia_"
   ]
  },
  {
   "cell_type": "markdown",
   "id": "c732375e",
   "metadata": {},
   "source": [
    "### Deploying the K Means ALgorithm "
   ]
  },
  {
   "cell_type": "code",
   "execution_count": 90,
   "id": "fb3aee59",
   "metadata": {},
   "outputs": [],
   "source": [
    "kmeans_scaled_train_set = KMeans(n_clusters=3)  # Initialises Kmeans using 3 clusters"
   ]
  },
  {
   "cell_type": "code",
   "execution_count": 178,
   "id": "ae8f6f33",
   "metadata": {},
   "outputs": [
    {
     "data": {
      "text/plain": [
       "KMeans(n_clusters=3)"
      ]
     },
     "execution_count": 178,
     "metadata": {},
     "output_type": "execute_result"
    }
   ],
   "source": [
    "kmeans_scaled_train_set.fit(scaled_train_set) # fits the data into the initialised kmeans"
   ]
  },
  {
   "cell_type": "code",
   "execution_count": 93,
   "id": "d30c8e2b",
   "metadata": {},
   "outputs": [
    {
     "name": "stdout",
     "output_type": "stream",
     "text": [
      "[[-1.061794   -1.0739856  -0.89635836 -1.14555252  0.83276956 -0.59549721]\n",
      " [-0.24864548  0.3940491  -0.38702203 -0.09337052 -0.64723144 -0.68744091]\n",
      " [ 1.18087742  0.5203597   1.1818175   1.09142796 -0.04676335  1.23444777]]\n"
     ]
    }
   ],
   "source": [
    "print(kmeans_scaled_train_set.cluster_centers_)  # Prints the centers of the three KMeans cluster centroids"
   ]
  },
  {
   "cell_type": "code",
   "execution_count": 95,
   "id": "b655f30b",
   "metadata": {},
   "outputs": [
    {
     "name": "stdout",
     "output_type": "stream",
     "text": [
      "[1 2 1 1 0 1 2 2 1 0 2 0 2 1 2 0 2 2 0 0 2 2 2 0 1 0 2 0 1 1 1 0 2 2 2 1 1\n",
      " 2 1 1 2 2 2 1 0 0 1 0 1 2 1 2 1 2 2 1 1 1 2 0 1 1 2 1 1 2 1 0 0 1 0 2 2 2\n",
      " 0 2 0 1 1 1 2 1 0 1 2 0 1 2 0 1 2 2 2 2 2 1 0 2 0 2 0 2 0 1 2 2 2 1 1 1 0\n",
      " 0 1 0 0 2 1 1 2 2 0 1 0 1 0 2 2 1 0 2 2 0 1 0 2 1 0 1 1 0 0 0 0 0 0 2 0 0\n",
      " 1 1 0 0 0 1 1 1 1 0 0 1 2 0 0 0 2 2 2 0 1 1 0 1 1 2 1 0 1 1 0 2 1 2 1 2 1\n",
      " 2 1 2 2 2 2 2 1 1 1 0 0 2]\n"
     ]
    }
   ],
   "source": [
    "print(kmeans_scaled_train_set.labels_)  # Prints the labels assigned to each training example"
   ]
  },
  {
   "cell_type": "markdown",
   "id": "d3d0b04f",
   "metadata": {},
   "source": [
    "### Evaluation of the Optimisation Objectives"
   ]
  },
  {
   "cell_type": "code",
   "execution_count": 179,
   "id": "45f12f22",
   "metadata": {},
   "outputs": [
    {
     "name": "stdout",
     "output_type": "stream",
     "text": [
      "377.81019252168403\n"
     ]
    }
   ],
   "source": [
    "print(kmeans_scaled_train_set.inertia_)  # Displays the final cost value of the clusters"
   ]
  },
  {
   "cell_type": "code",
   "execution_count": 183,
   "id": "d3e8c168",
   "metadata": {
    "scrolled": true
   },
   "outputs": [
    {
     "name": "stdout",
     "output_type": "stream",
     "text": [
      "Initialization complete\n",
      "Iteration 0, inertia 610.8126921731175\n",
      "Iteration 1, inertia 409.5663098653549\n",
      "Iteration 2, inertia 389.29326621040093\n",
      "Iteration 3, inertia 378.6436667298575\n",
      "Iteration 4, inertia 377.9579051520747\n",
      "Iteration 5, inertia 377.8698381301631\n",
      "Iteration 6, inertia 377.81019252168403\n",
      "Converged at iteration 6: strict convergence.\n"
     ]
    },
    {
     "data": {
      "text/plain": [
       "KMeans(n_clusters=3, n_init=1, verbose=2)"
      ]
     },
     "execution_count": 183,
     "metadata": {},
     "output_type": "execute_result"
    }
   ],
   "source": [
    "# Function to display the cost fucntion for every iteration\n",
    "\n",
    "def ite_inertia(X):\n",
    "    kmeans_scaled_train_set = KMeans(n_clusters=3,verbose=2, n_init=1)\n",
    "    kmeans_scaled_train_set.fit(X)\n",
    "    return kmeans_scaled_train_set\n",
    "\n",
    "ite_inertia(scaled_train_set)\n"
   ]
  },
  {
   "cell_type": "code",
   "execution_count": 205,
   "id": "94d388da",
   "metadata": {
    "scrolled": true
   },
   "outputs": [
    {
     "data": {
      "image/png": "[encoded data removed]",
      "text/plain": [
       "<Figure size 720x576 with 1 Axes>"
      ]
     },
     "metadata": {},
     "output_type": "display_data"
    }
   ],
   "source": [
    "# Function to plot the cost function against the iterations\n",
    "\n",
    "def redirect_wrapper(f, inp):\n",
    "    old_stdout = sys.stdout\n",
    "    new_stdout = io.StringIO()\n",
    "    sys.stdout = new_stdout\n",
    "\n",
    "    returned = f(inp)                #<- Call function\n",
    "    printed = new_stdout.getvalue()  #<- store printed output\n",
    "\n",
    "    sys.stdout = old_stdout\n",
    "    return returned, printed\n",
    "\n",
    "\n",
    "returned, printed = redirect_wrapper(ite_inertia, scaled_train_set)\n",
    "\n",
    "#Extract inertia values\n",
    "inertia = [float(i[i.find('inertia')+len('inertia')+1:]) for i in printed.split('\\n')[1:-2]]\n",
    "\n",
    "#Plot!\n",
    "plt.plot(inertia);"
   ]
  },
  {
   "cell_type": "markdown",
   "id": "f0b14c2c",
   "metadata": {},
   "source": [
    "### Accuracy Analysis"
   ]
  },
  {
   "cell_type": "code",
   "execution_count": 110,
   "id": "c8a9a241",
   "metadata": {},
   "outputs": [
    {
     "data": {
      "text/html": [
       "<div>\n",
       "<style scoped>\n",
       "    .dataframe tbody tr th:only-of-type {\n",
       "        vertical-align: middle;\n",
       "    }\n",
       "\n",
       "    .dataframe tbody tr th {\n",
       "        vertical-align: top;\n",
       "    }\n",
       "\n",
       "    .dataframe thead th {\n",
       "        text-align: right;\n",
       "    }\n",
       "</style>\n",
       "<table border=\"1\" class=\"dataframe\">\n",
       "  <thead>\n",
       "    <tr style=\"text-align: right;\">\n",
       "      <th>KMeans Predicted Label</th>\n",
       "      <th>0</th>\n",
       "      <th>1</th>\n",
       "      <th>2</th>\n",
       "    </tr>\n",
       "    <tr>\n",
       "      <th>Actual Label</th>\n",
       "      <th></th>\n",
       "      <th></th>\n",
       "      <th></th>\n",
       "    </tr>\n",
       "  </thead>\n",
       "  <tbody>\n",
       "    <tr>\n",
       "      <th>1.0</th>\n",
       "      <td>2</td>\n",
       "      <td>60</td>\n",
       "      <td>4</td>\n",
       "    </tr>\n",
       "    <tr>\n",
       "      <th>2.0</th>\n",
       "      <td>0</td>\n",
       "      <td>3</td>\n",
       "      <td>64</td>\n",
       "    </tr>\n",
       "    <tr>\n",
       "      <th>3.0</th>\n",
       "      <td>57</td>\n",
       "      <td>8</td>\n",
       "      <td>0</td>\n",
       "    </tr>\n",
       "  </tbody>\n",
       "</table>\n",
       "</div>"
      ],
      "text/plain": [
       "KMeans Predicted Label   0   1   2\n",
       "Actual Label                      \n",
       "1.0                      2  60   4\n",
       "2.0                      0   3  64\n",
       "3.0                     57   8   0"
      ]
     },
     "execution_count": 110,
     "metadata": {},
     "output_type": "execute_result"
    }
   ],
   "source": [
    "pd.crosstab(train_label,kmeans_scaled_train_set.labels_, rownames=['Actual Label'], colnames=['KMeans Predicted Label'])"
   ]
  },
  {
   "cell_type": "code",
   "execution_count": 117,
   "id": "0b5d8585",
   "metadata": {},
   "outputs": [
    {
     "data": {
      "image/png": "[encoded data removed]",
      "text/plain": [
       "<Figure size 720x576 with 2 Axes>"
      ]
     },
     "metadata": {},
     "output_type": "display_data"
    }
   ],
   "source": [
    "from sklearn.metrics import confusion_matrix\n",
    "\n",
    "cm = confusion_matrix(train_label, kmeans_scaled_train_set.labels_)\n",
    "\n",
    "\n",
    "import seaborn as sns; sns.set()\n",
    "\n",
    "ax = sns.heatmap(cm, annot=True, fmt=\"d\", cmap=\"Greens\")"
   ]
  },
  {
   "cell_type": "markdown",
   "id": "efe77299",
   "metadata": {},
   "source": [
    "### Using Principal Component Analysis To Visualise the Clusters"
   ]
  },
  {
   "cell_type": "code",
   "execution_count": 130,
   "id": "2f986851",
   "metadata": {},
   "outputs": [
    {
     "data": {
      "text/plain": [
       "PCA(n_components=2)"
      ]
     },
     "execution_count": 130,
     "metadata": {},
     "output_type": "execute_result"
    }
   ],
   "source": [
    "# Initialising PCA\n",
    "\n",
    "pca = PCA(n_components=2)\n",
    "pca.fit(scaled_train_set)"
   ]
  },
  {
   "cell_type": "code",
   "execution_count": 131,
   "id": "e29eb3b8",
   "metadata": {},
   "outputs": [],
   "source": [
    "two_com_scaled_train_set = pca.transform(scaled_train_set)  # saves the 2 generated components into a variable"
   ]
  },
  {
   "cell_type": "code",
   "execution_count": 132,
   "id": "119845be",
   "metadata": {},
   "outputs": [
    {
     "data": {
      "text/plain": [
       "array([[-0.31894175,  0.19299898],\n",
       "       [ 2.79669182, -0.50770525],\n",
       "       [-1.16011716,  1.73687395],\n",
       "       [-2.25132004,  1.33954448],\n",
       "       [-2.23728178, -0.8122401 ],\n",
       "       [-0.58056591,  0.17394513],\n",
       "       [ 1.6138966 ,  0.40763812],\n",
       "       [ 3.82897901, -1.36169125],\n",
       "       [-1.55602144,  0.78429873],\n",
       "       [-2.71034375, -0.29750141],\n",
       "       [ 3.29320234,  0.10902895],\n",
       "       [-2.6337744 , -0.35145672],\n",
       "       [ 2.68243163,  0.06216042],\n",
       "       [-0.47311081,  1.55848953],\n",
       "       [ 3.66692057, -0.45063748],\n",
       "       [-2.98041939, -1.10607994],\n",
       "       [ 3.07983642, -0.512204  ],\n",
       "       [ 2.94883464,  0.73881725],\n",
       "       [-2.85078911,  0.11063385],\n",
       "       [-1.30289905, -1.2093949 ],\n",
       "       [ 3.35075713, -0.20264846],\n",
       "       [ 0.6816477 , -0.47606843],\n",
       "       [ 2.5105279 ,  0.61251912],\n",
       "       [-1.5164658 , -0.12644498],\n",
       "       [ 0.51607005,  1.27660663],\n",
       "       [-1.66387318, -1.36367927],\n",
       "       [ 2.95738852, -1.64456495],\n",
       "       [-1.33461616, -0.34763132],\n",
       "       [-0.07806965,  1.02870862],\n",
       "       [-1.33854519,  1.90441137],\n",
       "       [-0.06407424, -0.4293289 ],\n",
       "       [-1.73948995,  0.14922914],\n",
       "       [ 1.46234728, -0.54849834],\n",
       "       [ 1.50700131, -0.77566693],\n",
       "       [ 1.61246515,  0.2582861 ],\n",
       "       [-0.14983329,  1.1951323 ],\n",
       "       [ 0.30713791,  2.27276022],\n",
       "       [ 2.84009144, -0.08760326],\n",
       "       [-1.43839824,  0.58040848],\n",
       "       [-0.46745332,  1.04679395],\n",
       "       [ 2.6587266 ,  0.01204113],\n",
       "       [ 2.61042486,  0.56551392],\n",
       "       [ 2.47557171, -0.89253707],\n",
       "       [-2.40675286,  1.3695452 ],\n",
       "       [-1.83428906,  0.11421689],\n",
       "       [-2.6815913 , -1.46624175],\n",
       "       [ 0.85197803,  2.29058385],\n",
       "       [-2.58719561, -1.0418878 ],\n",
       "       [ 1.08555987,  2.02383317],\n",
       "       [ 3.58478763, -1.6152842 ],\n",
       "       [-0.65794794,  1.68927048],\n",
       "       [ 2.63098804, -0.77708445],\n",
       "       [ 0.59197606,  0.72551391],\n",
       "       [ 2.75348647, -0.22576532],\n",
       "       [ 0.7958522 , -0.85717465],\n",
       "       [ 0.16414929,  0.58319648],\n",
       "       [ 0.09306196,  0.68395776],\n",
       "       [-1.1441612 ,  0.07794771],\n",
       "       [ 2.39558335,  0.71178632],\n",
       "       [-1.57051552,  0.35572281],\n",
       "       [-0.42206117,  0.70198404],\n",
       "       [-0.2671015 ,  1.10961908],\n",
       "       [ 1.37243602, -0.27983171],\n",
       "       [-0.94171503,  1.59455776],\n",
       "       [ 0.1999709 ,  0.95892079],\n",
       "       [ 3.13117054, -1.28386703],\n",
       "       [ 0.15948135,  0.63977075],\n",
       "       [-3.01106785, -0.75017446],\n",
       "       [-2.51086457, -0.17895805],\n",
       "       [ 0.57537163, -0.22841288],\n",
       "       [-2.19720806, -0.55703741],\n",
       "       [ 1.59728083, -0.4590712 ],\n",
       "       [ 2.94578045, -0.63264854],\n",
       "       [ 0.60688264, -0.85278606],\n",
       "       [-2.98913636, -1.87222856],\n",
       "       [ 2.5140458 ,  0.59932729],\n",
       "       [-2.70801246, -1.12026611],\n",
       "       [-0.45918502, -0.64677429],\n",
       "       [-0.50860923, -0.46842136],\n",
       "       [ 1.13392898,  1.2470014 ],\n",
       "       [ 3.10239791, -0.03011227],\n",
       "       [-1.36792273,  0.41132468],\n",
       "       [-1.41483429, -0.10799459],\n",
       "       [-1.48573443,  1.4300967 ],\n",
       "       [ 0.54261451, -0.86887176],\n",
       "       [-1.6641891 ,  0.03398237],\n",
       "       [-0.40538178,  1.90759664],\n",
       "       [ 3.15508358,  0.78715332],\n",
       "       [-2.33363466, -0.57281648],\n",
       "       [-0.06326017,  0.56623929],\n",
       "       [ 0.96782174, -1.2289708 ],\n",
       "       [ 0.63911242, -0.46524023],\n",
       "       [ 2.27710988, -0.82940837],\n",
       "       [ 3.04675198, -0.25978581],\n",
       "       [ 1.84819519, -0.47235841],\n",
       "       [ 0.24231002,  0.78029247],\n",
       "       [-1.34088831, -1.4364497 ],\n",
       "       [ 2.56034259,  0.41523475],\n",
       "       [-2.3505679 ,  0.11977285],\n",
       "       [ 3.67867303, -1.19414455],\n",
       "       [-2.50495419, -1.5937765 ],\n",
       "       [ 3.1482709 ,  0.25281051],\n",
       "       [-2.66934698, -1.15987386],\n",
       "       [-0.53836167,  1.20397642],\n",
       "       [ 2.77904954, -0.30351685],\n",
       "       [ 3.27266813,  0.38430829],\n",
       "       [ 2.78772162, -0.89574126],\n",
       "       [ 0.50971035,  1.6356703 ],\n",
       "       [-0.31475856,  1.88317993],\n",
       "       [ 0.39767758,  0.89192519],\n",
       "       [-2.62556457, -0.18708301],\n",
       "       [-1.83728195, -0.57706595],\n",
       "       [-0.83583677,  0.87099057],\n",
       "       [-3.02336009, -1.72954151],\n",
       "       [-2.89635047, -0.3670503 ],\n",
       "       [ 1.17380397, -1.15601497],\n",
       "       [-0.94227191,  0.24288744],\n",
       "       [-1.56543111,  0.71095386],\n",
       "       [ 3.92258711, -1.54051361],\n",
       "       [ 3.52199548, -0.67034768],\n",
       "       [-2.21193679,  0.52372627],\n",
       "       [ 0.59537237,  1.32987729],\n",
       "       [-2.61732593, -0.21586285],\n",
       "       [ 0.25933078,  0.24575955],\n",
       "       [-1.56763232, -0.35929277],\n",
       "       [ 1.90807588, -1.09740849],\n",
       "       [ 2.66865426,  0.02788976],\n",
       "       [ 0.46551707,  1.10696114],\n",
       "       [-1.65313244, -0.43293944],\n",
       "       [ 2.88893177,  0.07576309],\n",
       "       [ 2.38627159, -2.58711075],\n",
       "       [-1.74390198, -0.52466781],\n",
       "       [ 0.27721819, -0.24261425],\n",
       "       [-2.3129434 , -1.59276917],\n",
       "       [ 2.4090045 , -0.74774541],\n",
       "       [-0.52186355,  1.12028508],\n",
       "       [-2.44244426,  0.52879241],\n",
       "       [-0.27291568,  0.6366479 ],\n",
       "       [-0.09233835,  2.76329353],\n",
       "       [-1.8886878 , -1.22078916],\n",
       "       [-1.50259267, -0.22497555],\n",
       "       [-1.78697541, -0.55056599],\n",
       "       [-2.91496734, -2.27678327],\n",
       "       [-2.50737428, -1.68945429],\n",
       "       [-1.83185371, -0.46615947],\n",
       "       [ 1.34254565,  0.96451133],\n",
       "       [-2.36463612,  0.29899223],\n",
       "       [-2.8258944 , -2.12787991],\n",
       "       [-0.9091797 ,  2.01609404],\n",
       "       [-2.17483873,  1.90054424],\n",
       "       [-1.70721519, -0.12526453],\n",
       "       [-2.71084401, -0.81890913],\n",
       "       [-2.77227868, -1.71361714],\n",
       "       [-1.68168624,  1.6104701 ],\n",
       "       [-0.83147025,  0.87871649],\n",
       "       [-0.15898544,  1.36788797],\n",
       "       [ 0.90187932,  0.27336147],\n",
       "       [-1.2685998 , -1.3284549 ],\n",
       "       [-2.10648317,  0.13090501],\n",
       "       [ 1.00583319,  1.60751314],\n",
       "       [ 0.85655592, -0.80241651],\n",
       "       [-2.62442241, -1.41859256],\n",
       "       [-2.41950746, -0.18365404],\n",
       "       [-2.51539659, -1.028285  ],\n",
       "       [ 3.0740405 , -0.70807656],\n",
       "       [ 1.32505407, -0.9845704 ],\n",
       "       [ 3.95150195, -1.0876064 ],\n",
       "       [-1.6759895 , -0.63316553],\n",
       "       [-0.53368357,  1.32636417],\n",
       "       [-0.14630984,  0.42394595],\n",
       "       [-2.67045866, -1.03837378],\n",
       "       [-0.36319899,  1.03111128],\n",
       "       [-1.54947799,  0.69617473],\n",
       "       [ 1.99492184, -0.56505489],\n",
       "       [-1.018238  ,  0.13705948],\n",
       "       [-2.41857502, -2.40416256],\n",
       "       [-0.59435818,  1.09919033],\n",
       "       [-0.51898821,  0.74342374],\n",
       "       [-2.48158894, -1.58216564],\n",
       "       [ 1.18793751, -1.24001218],\n",
       "       [ 0.01128243,  1.91455398],\n",
       "       [ 2.67277739,  0.65479006],\n",
       "       [ 0.70706097,  2.13244452],\n",
       "       [ 1.75394243,  1.01565032],\n",
       "       [-1.29862348,  2.13225855],\n",
       "       [ 2.91484588, -0.41482111],\n",
       "       [-0.63741184, -0.46345095],\n",
       "       [ 2.8008309 ,  0.19103356],\n",
       "       [ 2.26452694, -2.25961501],\n",
       "       [ 1.02291371, -0.1184782 ],\n",
       "       [ 2.26101655, -1.29182851],\n",
       "       [ 1.52221104, -0.8723741 ],\n",
       "       [-1.37848642,  1.92052392],\n",
       "       [-0.22884226,  1.61798855],\n",
       "       [-1.70124405,  0.86780374],\n",
       "       [-1.49505318, -0.09254886],\n",
       "       [-1.97316502, -0.95017105],\n",
       "       [ 1.95909249, -0.48743523]])"
      ]
     },
     "execution_count": 132,
     "metadata": {},
     "output_type": "execute_result"
    }
   ],
   "source": [
    "two_com_scaled_train_set"
   ]
  },
  {
   "cell_type": "code",
   "execution_count": 172,
   "id": "f7bad0f3",
   "metadata": {},
   "outputs": [
    {
     "data": {
      "image/png": "[encoded data removed]",
      "text/plain": [
       "<Figure size 720x576 with 2 Axes>"
      ]
     },
     "metadata": {},
     "output_type": "display_data"
    }
   ],
   "source": [
    "plt.scatter(two_com_scaled_train_set[:,0], two_com_scaled_train_set[:,1], s=100, c=kmeans_scaled_train_set.labels_, cmap=plt.cm.get_cmap(\"brg_r\",3));\n",
    "\n",
    "#plt.cm.\n",
    "cbar = plt.colorbar(label=\"Clusters\", orientation=\"vertical\", pad=0.05, aspect=50);\n",
    "cbar.set_ticks([0,1,2])\n",
    "cbar.set_ticklabels([\"Cluster 1\", \"Cluster 2\", \"Cluster 3\"])\n",
    "cbar.ax.tick_params(labelsize=14)"
   ]
  },
  {
   "cell_type": "markdown",
   "id": "2f1d9649",
   "metadata": {},
   "source": [
    "##### Accuracy Calculation Error return back to it later"
   ]
  },
  {
   "cell_type": "code",
   "execution_count": 119,
   "id": "c282a982",
   "metadata": {},
   "outputs": [],
   "source": [
    "def cluster_acc(y_true, y_pred):\n",
    "    \"\"\"\n",
    "    Calculate clustering accuracy. Require scikit-learn installed\n",
    "    # Arguments\n",
    "        y: true labels, numpy.array with shape `(n_samples,)`\n",
    "        y_pred: predicted labels, numpy.array with shape `(n_samples,)`\n",
    "    # Return\n",
    "        accuracy, in [0,1]\n",
    "    \"\"\"\n",
    "    y_true = y_true.astype(np.int64)\n",
    "    assert y_pred.size == y_true.size\n",
    "    D = max(y_pred.max(), y_true.max()) + 1\n",
    "    w = np.zeros((D, D), dtype=np.int64)\n",
    "    for i in range(y_pred.size):\n",
    "        w[y_pred[i], y_true[i]] += 1\n",
    "    ind = linear_assignment(w.max() - w)\n",
    "    return sum([w[i, j] for i, j in ind]) * 1.0 / y_pred.size"
   ]
  },
  {
   "cell_type": "code",
   "execution_count": 120,
   "id": "027f764b",
   "metadata": {},
   "outputs": [
    {
     "ename": "NameError",
     "evalue": "name 'linear_assignment' is not defined",
     "output_type": "error",
     "traceback": [
      "\u001b[1;31m---------------------------------------------------------------------------\u001b[0m",
      "\u001b[1;31mNameError\u001b[0m                                 Traceback (most recent call last)",
      "\u001b[1;32m~\\AppData\\Local\\Temp/ipykernel_3548/127993757.py\u001b[0m in \u001b[0;36m<module>\u001b[1;34m\u001b[0m\n\u001b[1;32m----> 1\u001b[1;33m \u001b[0mcluster_acc\u001b[0m\u001b[1;33m(\u001b[0m\u001b[0mtrain_label\u001b[0m\u001b[1;33m,\u001b[0m\u001b[0mkmeans_scaled_train_set\u001b[0m\u001b[1;33m.\u001b[0m\u001b[0mlabels_\u001b[0m\u001b[1;33m)\u001b[0m\u001b[1;33m\u001b[0m\u001b[1;33m\u001b[0m\u001b[0m\n\u001b[0m",
      "\u001b[1;32m~\\AppData\\Local\\Temp/ipykernel_3548/2821795468.py\u001b[0m in \u001b[0;36mcluster_acc\u001b[1;34m(y_true, y_pred)\u001b[0m\n\u001b[0;32m     14\u001b[0m     \u001b[1;32mfor\u001b[0m \u001b[0mi\u001b[0m \u001b[1;32min\u001b[0m \u001b[0mrange\u001b[0m\u001b[1;33m(\u001b[0m\u001b[0my_pred\u001b[0m\u001b[1;33m.\u001b[0m\u001b[0msize\u001b[0m\u001b[1;33m)\u001b[0m\u001b[1;33m:\u001b[0m\u001b[1;33m\u001b[0m\u001b[1;33m\u001b[0m\u001b[0m\n\u001b[0;32m     15\u001b[0m         \u001b[0mw\u001b[0m\u001b[1;33m[\u001b[0m\u001b[0my_pred\u001b[0m\u001b[1;33m[\u001b[0m\u001b[0mi\u001b[0m\u001b[1;33m]\u001b[0m\u001b[1;33m,\u001b[0m \u001b[0my_true\u001b[0m\u001b[1;33m[\u001b[0m\u001b[0mi\u001b[0m\u001b[1;33m]\u001b[0m\u001b[1;33m]\u001b[0m \u001b[1;33m+=\u001b[0m \u001b[1;36m1\u001b[0m\u001b[1;33m\u001b[0m\u001b[1;33m\u001b[0m\u001b[0m\n\u001b[1;32m---> 16\u001b[1;33m     \u001b[0mind\u001b[0m \u001b[1;33m=\u001b[0m \u001b[0mlinear_assignment\u001b[0m\u001b[1;33m(\u001b[0m\u001b[0mw\u001b[0m\u001b[1;33m.\u001b[0m\u001b[0mmax\u001b[0m\u001b[1;33m(\u001b[0m\u001b[1;33m)\u001b[0m \u001b[1;33m-\u001b[0m \u001b[0mw\u001b[0m\u001b[1;33m)\u001b[0m\u001b[1;33m\u001b[0m\u001b[1;33m\u001b[0m\u001b[0m\n\u001b[0m\u001b[0;32m     17\u001b[0m     \u001b[1;32mreturn\u001b[0m \u001b[0msum\u001b[0m\u001b[1;33m(\u001b[0m\u001b[1;33m[\u001b[0m\u001b[0mw\u001b[0m\u001b[1;33m[\u001b[0m\u001b[0mi\u001b[0m\u001b[1;33m,\u001b[0m \u001b[0mj\u001b[0m\u001b[1;33m]\u001b[0m \u001b[1;32mfor\u001b[0m \u001b[0mi\u001b[0m\u001b[1;33m,\u001b[0m \u001b[0mj\u001b[0m \u001b[1;32min\u001b[0m \u001b[0mind\u001b[0m\u001b[1;33m]\u001b[0m\u001b[1;33m)\u001b[0m \u001b[1;33m*\u001b[0m \u001b[1;36m1.0\u001b[0m \u001b[1;33m/\u001b[0m \u001b[0my_pred\u001b[0m\u001b[1;33m.\u001b[0m\u001b[0msize\u001b[0m\u001b[1;33m\u001b[0m\u001b[1;33m\u001b[0m\u001b[0m\n",
      "\u001b[1;31mNameError\u001b[0m: name 'linear_assignment' is not defined"
     ]
    }
   ],
   "source": [
    "cluster_acc(train_label, kmeans_scaled_train_set.labels_)"
   ]
  },
  {
   "cell_type": "code",
   "execution_count": 107,
   "id": "e8a90f29",
   "metadata": {
    "scrolled": false
   },
   "outputs": [
    {
     "name": "stdout",
     "output_type": "stream",
     "text": [
      "[1. 2. 3. 1. 3. 1. 2. 2. 1. 3. 2. 3. 2. 1. 2. 3. 2. 2. 3. 3. 2. 1. 2. 3.\n",
      " 1. 3. 2. 3. 1. 1. 1. 3. 2. 2. 1. 1. 1. 2. 1. 1. 2. 2. 2. 1. 3. 3. 1. 3.\n",
      " 1. 2. 1. 2. 2. 2. 2. 1. 1. 1. 2. 1. 1. 1. 2. 1. 1. 2. 1. 3. 3. 2. 3. 2.\n",
      " 2. 2. 3. 2. 3. 1. 1. 1. 2. 3. 3. 3. 2. 3. 1. 2. 3. 1. 2. 2. 2. 2. 2. 1.\n",
      " 3. 2. 3. 2. 3. 2. 3. 1. 2. 2. 2. 1. 1. 1. 3. 3. 1. 3. 3. 2. 3. 3. 2. 2.\n",
      " 3. 2. 3. 1. 3. 2. 2. 1. 3. 2. 2. 3. 1. 3. 2. 1. 3. 1. 1. 3. 3. 3. 3. 3.\n",
      " 3. 1. 3. 3. 1. 1. 1. 3. 3. 1. 1. 1. 1. 3. 3. 1. 2. 3. 3. 3. 2. 2. 2. 3.\n",
      " 1. 1. 3. 1. 3. 2. 1. 3. 1. 1. 3. 2. 1. 2. 1. 1. 3. 2. 1. 2. 2. 2. 2. 2.\n",
      " 1. 1. 3. 3. 3. 2.]\n"
     ]
    }
   ],
   "source": [
    "print(train_label)"
   ]
  },
  {
   "cell_type": "code",
   "execution_count": null,
   "id": "8afa79dc",
   "metadata": {},
   "outputs": [],
   "source": []
  },
  {
   "cell_type": "markdown",
   "id": "e871920f",
   "metadata": {},
   "source": [
    "#### Subplot error, return back to it later"
   ]
  },
  {
   "cell_type": "code",
   "execution_count": 44,
   "id": "dd25acf9",
   "metadata": {
    "collapsed": true
   },
   "outputs": [
    {
     "data": {
      "image/png": "[encoded data removed]",
      "text/plain": [
       "<Figure size 432x288 with 8 Axes>"
      ]
     },
     "metadata": {
      "needs_background": "light"
     },
     "output_type": "display_data"
    }
   ],
   "source": [
    "fig, ax = plt.subplots(4,2)\n",
    "\n",
    "ax[0,0].plot(train_label,train_area, \"o\")\n",
    "ax[0,0].set_title(\"Area VS Label\")\n",
    "\n",
    "ax[0,1].plot(train_label,train_perimeter, \"o\")\n",
    "ax[0,1].set_title(\"Perimeter VS Label\")\n",
    "\n",
    "ax[1,0].plot(train_label,train_compaction, \"o\")\n",
    "ax[1,0].set_title(\"Compaction VS Label\")\n",
    "\n",
    "ax[1,1].plot(train_label,train_length1, \"o\")\n",
    "ax[1,1].set_title(\"Length VS Label\")\n",
    "\n",
    "ax[2,0].plot(train_label,train_width, \"o\")\n",
    "ax[2,0].set_title(\"Width VS Label\")\n",
    "\n",
    "ax[2,1].plot(train_label, train_asymmetry, \"o\")\n",
    "ax[2,1].set_title(\"Asymmetry VS Label\")\n",
    "\n",
    "ax[3,0].plot(train_label, train_length2, \"o\")\n",
    "ax[3,0].set_title(\"Length of Kerenel Groove VS Label\")\n",
    "\n",
    "\n",
    "for _ in ax.flat:\n",
    "    plt.xlabel='x-label'\n",
    "    plt.ylabel='y-label'\n",
    "    plt.fontsize=100\n",
    "\n",
    "\n",
    "plt.show()"
   ]
  },
  {
   "cell_type": "code",
   "execution_count": 47,
   "id": "f5a7add6",
   "metadata": {
    "collapsed": true
   },
   "outputs": [
    {
     "data": {
      "text/plain": [
       "<matplotlib.collections.PathCollection at 0x247a4f56820>"
      ]
     },
     "execution_count": 47,
     "metadata": {},
     "output_type": "execute_result"
    },
    {
     "data": {
      "image/png": "[encoded data removed]",
      "text/plain": [
       "<Figure size 720x576 with 1 Axes>"
      ]
     },
     "metadata": {
      "needs_background": "light"
     },
     "output_type": "display_data"
    }
   ],
   "source": [
    "#### Visualising the data\n",
    "\n",
    "plt.rcParams[\"figure.figsize\"]=(10,8)   # Changing the size of the plot\n",
    "\n",
    "# Changing the axis limit of the plot\n",
    "\n",
    "# plt.ylim(0,18)  # This is not what you'll use just leaving this here to check\n",
    "# plt.xlim(0,4)\n",
    "\n",
    "\n",
    "# Adding labels\n",
    "# plt.xlabel(\"Perimeter (p) \", fontsize=14)\n",
    "# plt.ylabel(\"Area (A) \", fontsize=14)\n",
    "\n",
    "\n",
    "\n",
    "\n",
    "plt.scatter(train_class,train_area,)   # Uses size and colour to represent the third and fourth variables\n",
    "\n",
    "\n",
    "# compaction*100, length, cmap=\"rainbow\"\n"
   ]
  },
  {
   "cell_type": "code",
   "execution_count": 36,
   "id": "8abd888d",
   "metadata": {
    "collapsed": true
   },
   "outputs": [
    {
     "data": {
      "text/plain": [
       "Text(0.5, 1.0, 'Area VS Label')"
      ]
     },
     "execution_count": 36,
     "metadata": {},
     "output_type": "execute_result"
    },
    {
     "data": {
      "image/png": "[encoded data removed]",
      "text/plain": [
       "<Figure size 432x288 with 8 Axes>"
      ]
     },
     "metadata": {
      "needs_background": "light"
     },
     "output_type": "display_data"
    }
   ],
   "source": [
    "fig, ax = plt.subplots(4,2)\n",
    "\n",
    "ax[0,0].plot(train_label,train_area, \"o\")\n",
    "ax[0,0].set_title(\"Area VS Label\")"
   ]
  },
  {
   "cell_type": "markdown",
   "id": "7a154a1c",
   "metadata": {},
   "source": [
    "## Conducting K Means for Training Set"
   ]
  },
  {
   "cell_type": "code",
   "execution_count": null,
   "id": "c826ae32",
   "metadata": {},
   "outputs": [],
   "source": [
    "fig, axs = plt.subplots(2, 2)\n",
    "axs[0, 0].plot(x, y)\n",
    "axs[0, 0].set_title('Axis [0, 0]')\n",
    "axs[0, 1].plot(x, y, 'tab:orange')\n",
    "axs[0, 1].set_title('Axis [0, 1]')\n",
    "axs[1, 0].plot(x, -y, 'tab:green')\n",
    "axs[1, 0].set_title('Axis [1, 0]')\n",
    "axs[1, 1].plot(x, -y, 'tab:red')\n",
    "axs[1, 1].set_title('Axis [1, 1]')\n",
    "\n",
    "fig.suptitle(\"Correlation relationship between all the features and the labels\"\n",
    "for _ in ax.flat:\n",
    "    ax.set(xlabel='x-label', ylabel='y-label')\n",
    "\n",
    "# Hide x labels and tick labels for top plots and y ticks for right plots.\n",
    "for ax in axs.flat:\n",
    "    ax.label_outer()\n",
    "\n",
    "\n",
    "\n"
   ]
  },
  {
   "cell_type": "markdown",
   "id": "ff1b68ad",
   "metadata": {},
   "source": [
    "## Density Based Spatial Clustering of Applications with Noise(DBCSAN)"
   ]
  },
  {
   "cell_type": "code",
   "execution_count": 207,
   "id": "1f254010",
   "metadata": {},
   "outputs": [],
   "source": [
    "from sklearn.cluster import DBSCAN"
   ]
  },
  {
   "cell_type": "code",
   "execution_count": 217,
   "id": "5f5ae125",
   "metadata": {},
   "outputs": [],
   "source": [
    "dbscan = DBSCAN(eps=3, min_samples=3)"
   ]
  },
  {
   "cell_type": "code",
   "execution_count": 220,
   "id": "c5b53259",
   "metadata": {},
   "outputs": [],
   "source": [
    "labels = dbscan.fit_predict(scaled_train_set)"
   ]
  },
  {
   "cell_type": "code",
   "execution_count": 221,
   "id": "cb60f805",
   "metadata": {},
   "outputs": [
    {
     "data": {
      "text/plain": [
       "array([0], dtype=int64)"
      ]
     },
     "execution_count": 221,
     "metadata": {},
     "output_type": "execute_result"
    }
   ],
   "source": [
    "np.unique(labels)"
   ]
  },
  {
   "cell_type": "markdown",
   "id": "9c3a8ebd",
   "metadata": {},
   "source": [
    "### Number 2"
   ]
  },
  {
   "cell_type": "code",
   "execution_count": 222,
   "id": "c06f1da5",
   "metadata": {},
   "outputs": [],
   "source": [
    "dbscan2 = DBSCAN(eps=5, min_samples=5)"
   ]
  },
  {
   "cell_type": "code",
   "execution_count": 258,
   "id": "c118d78e",
   "metadata": {},
   "outputs": [],
   "source": [
    "labels2 = dbscan.fit_predict(scaled_train_set)"
   ]
  },
  {
   "cell_type": "code",
   "execution_count": 259,
   "id": "bff090ab",
   "metadata": {},
   "outputs": [
    {
     "data": {
      "text/plain": [
       "array([0], dtype=int64)"
      ]
     },
     "execution_count": 259,
     "metadata": {},
     "output_type": "execute_result"
    }
   ],
   "source": [
    "np.unique(labels2)"
   ]
  },
  {
   "cell_type": "markdown",
   "id": "b75dd303",
   "metadata": {},
   "source": [
    "### Number 3"
   ]
  },
  {
   "cell_type": "code",
   "execution_count": 278,
   "id": "72392acd",
   "metadata": {
    "scrolled": true
   },
   "outputs": [
    {
     "data": {
      "text/plain": [
       "array([0], dtype=int64)"
      ]
     },
     "execution_count": 278,
     "metadata": {},
     "output_type": "execute_result"
    }
   ],
   "source": [
    "dbscan3 = DBSCAN(eps=1.0, min_samples=14)\n",
    "labels3 = dbscan.fit_predict(train_set)\n",
    "np.unique(labels3)"
   ]
  },
  {
   "cell_type": "code",
   "execution_count": 274,
   "id": "a50ed56c",
   "metadata": {},
   "outputs": [
    {
     "ename": "AttributeError",
     "evalue": "'numpy.ndarray' object has no attribute 'labels_'",
     "output_type": "error",
     "traceback": [
      "\u001b[1;31m---------------------------------------------------------------------------\u001b[0m",
      "\u001b[1;31mAttributeError\u001b[0m                            Traceback (most recent call last)",
      "\u001b[1;32m~\\AppData\\Local\\Temp/ipykernel_3548/2519011540.py\u001b[0m in \u001b[0;36m<module>\u001b[1;34m\u001b[0m\n\u001b[1;32m----> 1\u001b[1;33m \u001b[0mlabels3\u001b[0m\u001b[1;33m.\u001b[0m\u001b[0mlabels_\u001b[0m\u001b[1;33m\u001b[0m\u001b[1;33m\u001b[0m\u001b[0m\n\u001b[0m",
      "\u001b[1;31mAttributeError\u001b[0m: 'numpy.ndarray' object has no attribute 'labels_'"
     ]
    }
   ],
   "source": [
    "labels3.labels_"
   ]
  },
  {
   "cell_type": "code",
   "execution_count": 283,
   "id": "8657f453",
   "metadata": {},
   "outputs": [
    {
     "name": "stdout",
     "output_type": "stream",
     "text": [
      "Estimated no. of clusters: 2\n",
      "Estimated no. of noise points: 0\n"
     ]
    }
   ],
   "source": [
    "# Compute DBSCAN\n",
    "db = DBSCAN(eps=1.0, min_samples=13).fit(scaled_train_set)\n",
    "labels_db = db.labels_\n",
    "\n",
    "no_clusters = len(np.unique(labels) )\n",
    "no_noise = np.sum(np.array(labels) == -1, axis=0)\n",
    "\n",
    "print('Estimated no. of clusters: %d' % no_clusters)\n",
    "print('Estimated no. of noise points: %d' % no_noise)"
   ]
  },
  {
   "cell_type": "code",
   "execution_count": 284,
   "id": "90d286ee",
   "metadata": {},
   "outputs": [
    {
     "name": "stdout",
     "output_type": "stream",
     "text": [
      "[ 1  0 -1 -1  1  1  0 -1  1  1  0  1  0  1  0  1  0  0  1  1  0 -1  0  1\n",
      "  1 -1  0  1  1 -1 -1  1  0  0 -1  1 -1  0  1 -1  0  0 -1 -1  1 -1 -1  1\n",
      "  1 -1  1  0  1  0  0  1  1  1  0  1  1  1  0  1  1 -1  1  1  1 -1  1 -1\n",
      " -1  0  1  0  1  1  1  1  0  1  1  1 -1  1  1  0  1  1  0 -1  0  0  0  1\n",
      " -1  0  1 -1  1  0  1  1  0  0  0  1 -1  1  1  1  1  1  1  0  1 -1 -1  0\n",
      "  1 -1  1  1  1  0  0  1  1  0 -1  1 -1  1 -1  1  1  1 -1  1  1  1 -1  1\n",
      "  1  1 -1  1 -1 -1  1  1  1 -1  1  1  1 -1  1  1  0  1  1  1  0  0 -1  1\n",
      "  1  1  1  1  1  0  1 -1 -1  1 -1  0  1  0 -1 -1 -1  0 -1  0 -1  0  0  0\n",
      " -1  1  1  1  1  0]\n"
     ]
    }
   ],
   "source": [
    "print(labels_db)"
   ]
  },
  {
   "cell_type": "code",
   "execution_count": 285,
   "id": "ff01e699",
   "metadata": {},
   "outputs": [
    {
     "data": {
      "image/png": "[encoded data removed]",
      "text/plain": [
       "<Figure size 720x576 with 2 Axes>"
      ]
     },
     "metadata": {},
     "output_type": "display_data"
    }
   ],
   "source": [
    "plt.scatter(two_com_scaled_train_set[:,0], two_com_scaled_train_set[:,1], s=100, c=labels_db, cmap=plt.cm.get_cmap(\"brg_r\",3));\n",
    "\n",
    "#plt.cm.\n",
    "cbar = plt.colorbar(label=\"Clusters\", orientation=\"vertical\", pad=0.05, aspect=50);\n",
    "cbar.set_ticks([0,1,2])\n",
    "cbar.set_ticklabels([\"Cluster 1\", \"Cluster 2\", \"Cluster 3\"])\n",
    "cbar.ax.tick_params(labelsize=14)"
   ]
  },
  {
   "cell_type": "markdown",
   "id": "664a1835",
   "metadata": {},
   "source": [
    "## Mean Shift"
   ]
  },
  {
   "cell_type": "code",
   "execution_count": 261,
   "id": "d65416f4",
   "metadata": {},
   "outputs": [],
   "source": [
    "from sklearn.cluster import MeanShift, estimate_bandwidth"
   ]
  },
  {
   "cell_type": "code",
   "execution_count": 268,
   "id": "0868c063",
   "metadata": {},
   "outputs": [
    {
     "name": "stdout",
     "output_type": "stream",
     "text": [
      "[0 1 0 0 0 0 1 1 0 0 1 0 1 0 1 0 1 1 0 0 1 1 1 0 0 0 1 0 0 0 0 0 1 1 1 0 0\n",
      " 1 0 0 1 1 1 0 0 0 0 0 1 1 0 1 0 1 1 0 0 0 1 0 0 0 1 0 0 1 0 0 0 1 0 1 1 1\n",
      " 0 1 0 0 0 1 1 0 0 0 1 0 0 1 0 0 1 1 1 1 1 0 0 1 0 1 0 1 0 0 1 1 1 0 0 0 0\n",
      " 0 0 0 0 1 0 0 1 1 0 0 0 0 0 1 1 0 0 1 1 0 0 0 1 0 0 0 0 0 0 0 0 0 0 1 0 0\n",
      " 0 0 0 0 0 0 0 0 1 0 0 1 1 0 0 0 1 1 1 0 0 0 0 0 0 1 0 0 0 0 0 1 0 1 0 1 0\n",
      " 1 0 1 1 1 1 1 0 0 0 0 0 1]\n"
     ]
    }
   ],
   "source": [
    "bandwidth = estimate_bandwidth(scaled_train_set, quantile=0.2, n_samples=500)\n",
    "\n",
    "ms = MeanShift(bandwidth=bandwidth, bin_seeding=True)\n",
    "ms.fit(scaled_train_set)\n",
    "labels = ms.labels_\n",
    "print(labels)"
   ]
  },
  {
   "cell_type": "code",
   "execution_count": 269,
   "id": "26b2a0bb",
   "metadata": {},
   "outputs": [
    {
     "name": "stdout",
     "output_type": "stream",
     "text": [
      "number of estimated clusters : 2\n"
     ]
    }
   ],
   "source": [
    "cluster_centers = ms.cluster_centers_\n",
    "\n",
    "labels_unique = np.unique(labels)\n",
    "n_clusters_ = len(labels_unique)\n",
    "\n",
    "print(\"number of estimated clusters : %d\" % n_clusters_)"
   ]
  },
  {
   "cell_type": "code",
   "execution_count": 270,
   "id": "2612c716",
   "metadata": {},
   "outputs": [
    {
     "data": {
      "image/png": "[encoded data removed]",
      "text/plain": [
       "<Figure size 720x576 with 2 Axes>"
      ]
     },
     "metadata": {},
     "output_type": "display_data"
    }
   ],
   "source": [
    "plt.scatter(two_com_scaled_train_set[:,0], two_com_scaled_train_set[:,1], s=100, c=labels, cmap=plt.cm.get_cmap(\"brg_r\",3));\n",
    "\n",
    "#plt.cm.\n",
    "cbar = plt.colorbar(label=\"Clusters\", orientation=\"vertical\", pad=0.05, aspect=50);\n",
    "cbar.set_ticks([0,1,2])\n",
    "cbar.set_ticklabels([\"Cluster 1\", \"Cluster 2\", \"Cluster 3\"])\n",
    "cbar.ax.tick_params(labelsize=14)"
   ]
  },
  {
   "cell_type": "code",
   "execution_count": 266,
   "id": "f51d1758",
   "metadata": {
    "collapsed": true
   },
   "outputs": [
    {
     "ename": "TypeError",
     "evalue": "'(array([ True, False,  True,  True,  True,  True, False, False,  True,\n        True, False,  True, False,  True, False,  True, False, False,\n        True,  True, False, False, False,  True,  True,  True, False,\n        True,  True,  True,  True,  True, False, False, False,  True,\n        True, False,  True,  True, False, False, False,  True,  True,\n        True,  True,  True, False, False,  True, False,  True, False,\n       False,  True,  True,  True, False,  True,  True,  True, False,\n        True,  True, False,  True,  True,  True, False,  True, False,\n       False, False,  True, False,  True,  True,  True, False, False,\n        True,  True,  True, False,  True,  True, False,  True,  True,\n       False, False, False, False, False,  True,  True, False,  True,\n       False,  True, False,  True,  True, False, False, False,  True,\n        True,  True,  True,  True,  True,  True,  True, False,  True,\n        True, False, False,  True,  True,  True,  True,  True, False,\n       False,  True,  True, False, False,  True,  True,  True, False,\n        True,  True,  True,  True,  True,  True,  True,  True,  True,\n        True, False,  True,  True,  True,  True,  True,  True,  True,\n        True,  True,  True, False,  True,  True, False, False,  True,\n        True,  True, False, False, False,  True,  True,  True,  True,\n        True,  True, False,  True,  True,  True,  True,  True, False,\n        True, False,  True, False,  True, False,  True, False, False,\n       False, False, False,  True,  True,  True,  True,  True, False]), 0)' is an invalid key",
     "output_type": "error",
     "traceback": [
      "\u001b[1;31m---------------------------------------------------------------------------\u001b[0m",
      "\u001b[1;31mTypeError\u001b[0m                                 Traceback (most recent call last)",
      "\u001b[1;32m~\\AppData\\Local\\Temp/ipykernel_3548/4040783577.py\u001b[0m in \u001b[0;36m<module>\u001b[1;34m\u001b[0m\n\u001b[0;32m      8\u001b[0m     \u001b[0mmy_members\u001b[0m \u001b[1;33m=\u001b[0m \u001b[0mlabels\u001b[0m \u001b[1;33m==\u001b[0m \u001b[0mk\u001b[0m\u001b[1;33m\u001b[0m\u001b[1;33m\u001b[0m\u001b[0m\n\u001b[0;32m      9\u001b[0m     \u001b[0mcluster_center\u001b[0m \u001b[1;33m=\u001b[0m \u001b[0mcluster_centers\u001b[0m\u001b[1;33m[\u001b[0m\u001b[0mk\u001b[0m\u001b[1;33m]\u001b[0m\u001b[1;33m\u001b[0m\u001b[1;33m\u001b[0m\u001b[0m\n\u001b[1;32m---> 10\u001b[1;33m     \u001b[0mplt\u001b[0m\u001b[1;33m.\u001b[0m\u001b[0mplot\u001b[0m\u001b[1;33m(\u001b[0m\u001b[0mscaled_train_set\u001b[0m\u001b[1;33m[\u001b[0m\u001b[0mmy_members\u001b[0m\u001b[1;33m,\u001b[0m \u001b[1;36m0\u001b[0m\u001b[1;33m]\u001b[0m\u001b[1;33m,\u001b[0m \u001b[0mscaled_train_set\u001b[0m\u001b[1;33m[\u001b[0m\u001b[0mmy_members\u001b[0m\u001b[1;33m,\u001b[0m \u001b[1;36m1\u001b[0m\u001b[1;33m]\u001b[0m\u001b[1;33m,\u001b[0m \u001b[0mmarkers\u001b[0m\u001b[1;33m[\u001b[0m\u001b[0mk\u001b[0m\u001b[1;33m]\u001b[0m\u001b[1;33m,\u001b[0m \u001b[0mcolor\u001b[0m\u001b[1;33m=\u001b[0m\u001b[0mcol\u001b[0m\u001b[1;33m)\u001b[0m\u001b[1;33m\u001b[0m\u001b[1;33m\u001b[0m\u001b[0m\n\u001b[0m\u001b[0;32m     11\u001b[0m     plt.plot(\n\u001b[0;32m     12\u001b[0m         \u001b[0mcluster_center\u001b[0m\u001b[1;33m[\u001b[0m\u001b[1;36m0\u001b[0m\u001b[1;33m]\u001b[0m\u001b[1;33m,\u001b[0m\u001b[1;33m\u001b[0m\u001b[1;33m\u001b[0m\u001b[0m\n",
      "\u001b[1;32m~\\anaconda3\\lib\\site-packages\\pandas\\core\\frame.py\u001b[0m in \u001b[0;36m__getitem__\u001b[1;34m(self, key)\u001b[0m\n\u001b[0;32m   3456\u001b[0m             \u001b[1;32mif\u001b[0m \u001b[0mself\u001b[0m\u001b[1;33m.\u001b[0m\u001b[0mcolumns\u001b[0m\u001b[1;33m.\u001b[0m\u001b[0mnlevels\u001b[0m \u001b[1;33m>\u001b[0m \u001b[1;36m1\u001b[0m\u001b[1;33m:\u001b[0m\u001b[1;33m\u001b[0m\u001b[1;33m\u001b[0m\u001b[0m\n\u001b[0;32m   3457\u001b[0m                 \u001b[1;32mreturn\u001b[0m \u001b[0mself\u001b[0m\u001b[1;33m.\u001b[0m\u001b[0m_getitem_multilevel\u001b[0m\u001b[1;33m(\u001b[0m\u001b[0mkey\u001b[0m\u001b[1;33m)\u001b[0m\u001b[1;33m\u001b[0m\u001b[1;33m\u001b[0m\u001b[0m\n\u001b[1;32m-> 3458\u001b[1;33m             \u001b[0mindexer\u001b[0m \u001b[1;33m=\u001b[0m \u001b[0mself\u001b[0m\u001b[1;33m.\u001b[0m\u001b[0mcolumns\u001b[0m\u001b[1;33m.\u001b[0m\u001b[0mget_loc\u001b[0m\u001b[1;33m(\u001b[0m\u001b[0mkey\u001b[0m\u001b[1;33m)\u001b[0m\u001b[1;33m\u001b[0m\u001b[1;33m\u001b[0m\u001b[0m\n\u001b[0m\u001b[0;32m   3459\u001b[0m             \u001b[1;32mif\u001b[0m \u001b[0mis_integer\u001b[0m\u001b[1;33m(\u001b[0m\u001b[0mindexer\u001b[0m\u001b[1;33m)\u001b[0m\u001b[1;33m:\u001b[0m\u001b[1;33m\u001b[0m\u001b[1;33m\u001b[0m\u001b[0m\n\u001b[0;32m   3460\u001b[0m                 \u001b[0mindexer\u001b[0m \u001b[1;33m=\u001b[0m \u001b[1;33m[\u001b[0m\u001b[0mindexer\u001b[0m\u001b[1;33m]\u001b[0m\u001b[1;33m\u001b[0m\u001b[1;33m\u001b[0m\u001b[0m\n",
      "\u001b[1;32m~\\anaconda3\\lib\\site-packages\\pandas\\core\\indexes\\base.py\u001b[0m in \u001b[0;36mget_loc\u001b[1;34m(self, key, method, tolerance)\u001b[0m\n\u001b[0;32m   3359\u001b[0m             \u001b[0mcasted_key\u001b[0m \u001b[1;33m=\u001b[0m \u001b[0mself\u001b[0m\u001b[1;33m.\u001b[0m\u001b[0m_maybe_cast_indexer\u001b[0m\u001b[1;33m(\u001b[0m\u001b[0mkey\u001b[0m\u001b[1;33m)\u001b[0m\u001b[1;33m\u001b[0m\u001b[1;33m\u001b[0m\u001b[0m\n\u001b[0;32m   3360\u001b[0m             \u001b[1;32mtry\u001b[0m\u001b[1;33m:\u001b[0m\u001b[1;33m\u001b[0m\u001b[1;33m\u001b[0m\u001b[0m\n\u001b[1;32m-> 3361\u001b[1;33m                 \u001b[1;32mreturn\u001b[0m \u001b[0mself\u001b[0m\u001b[1;33m.\u001b[0m\u001b[0m_engine\u001b[0m\u001b[1;33m.\u001b[0m\u001b[0mget_loc\u001b[0m\u001b[1;33m(\u001b[0m\u001b[0mcasted_key\u001b[0m\u001b[1;33m)\u001b[0m\u001b[1;33m\u001b[0m\u001b[1;33m\u001b[0m\u001b[0m\n\u001b[0m\u001b[0;32m   3362\u001b[0m             \u001b[1;32mexcept\u001b[0m \u001b[0mKeyError\u001b[0m \u001b[1;32mas\u001b[0m \u001b[0merr\u001b[0m\u001b[1;33m:\u001b[0m\u001b[1;33m\u001b[0m\u001b[1;33m\u001b[0m\u001b[0m\n\u001b[0;32m   3363\u001b[0m                 \u001b[1;32mraise\u001b[0m \u001b[0mKeyError\u001b[0m\u001b[1;33m(\u001b[0m\u001b[0mkey\u001b[0m\u001b[1;33m)\u001b[0m \u001b[1;32mfrom\u001b[0m \u001b[0merr\u001b[0m\u001b[1;33m\u001b[0m\u001b[1;33m\u001b[0m\u001b[0m\n",
      "\u001b[1;32m~\\anaconda3\\lib\\site-packages\\pandas\\_libs\\index.pyx\u001b[0m in \u001b[0;36mpandas._libs.index.IndexEngine.get_loc\u001b[1;34m()\u001b[0m\n",
      "\u001b[1;32m~\\anaconda3\\lib\\site-packages\\pandas\\_libs\\index.pyx\u001b[0m in \u001b[0;36mpandas._libs.index.IndexEngine.get_loc\u001b[1;34m()\u001b[0m\n",
      "\u001b[1;31mTypeError\u001b[0m: '(array([ True, False,  True,  True,  True,  True, False, False,  True,\n        True, False,  True, False,  True, False,  True, False, False,\n        True,  True, False, False, False,  True,  True,  True, False,\n        True,  True,  True,  True,  True, False, False, False,  True,\n        True, False,  True,  True, False, False, False,  True,  True,\n        True,  True,  True, False, False,  True, False,  True, False,\n       False,  True,  True,  True, False,  True,  True,  True, False,\n        True,  True, False,  True,  True,  True, False,  True, False,\n       False, False,  True, False,  True,  True,  True, False, False,\n        True,  True,  True, False,  True,  True, False,  True,  True,\n       False, False, False, False, False,  True,  True, False,  True,\n       False,  True, False,  True,  True, False, False, False,  True,\n        True,  True,  True,  True,  True,  True,  True, False,  True,\n        True, False, False,  True,  True,  True,  True,  True, False,\n       False,  True,  True, False, False,  True,  True,  True, False,\n        True,  True,  True,  True,  True,  True,  True,  True,  True,\n        True, False,  True,  True,  True,  True,  True,  True,  True,\n        True,  True,  True, False,  True,  True, False, False,  True,\n        True,  True, False, False, False,  True,  True,  True,  True,\n        True,  True, False,  True,  True,  True,  True,  True, False,\n        True, False,  True, False,  True, False,  True, False, False,\n       False, False, False,  True,  True,  True,  True,  True, False]), 0)' is an invalid key"
     ]
    },
    {
     "data": {
      "text/plain": [
       "<Figure size 720x576 with 0 Axes>"
      ]
     },
     "metadata": {},
     "output_type": "display_data"
    }
   ],
   "source": [
    "plt.figure(1)\n",
    "plt.clf()\n",
    "\n",
    "colors = [\"#dede00\", \"#377eb8\", \"#f781bf\"]\n",
    "markers = [\"x\", \"o\", \"^\"]\n",
    "\n",
    "for k, col in zip(range(n_clusters_), colors):\n",
    "    my_members = labels == k\n",
    "    cluster_center = cluster_centers[k]\n",
    "    plt.plot(scaled_train_set[my_members, 0], scaled_train_set[my_members, 1], markers[k], color=col)\n",
    "    plt.plot(\n",
    "        cluster_center[0],\n",
    "        cluster_center[1],\n",
    "        markers[k],\n",
    "        markerfacecolor=col,\n",
    "        markeredgecolor=\"k\",\n",
    "        markersize=14,\n",
    "    )\n",
    "plt.title(\"Estimated number of clusters: %d\" % n_clusters_)\n",
    "plt.show()"
   ]
  },
  {
   "cell_type": "code",
   "execution_count": null,
   "id": "a2cdf8c3",
   "metadata": {},
   "outputs": [],
   "source": []
  }
 ],
 "metadata": {
  "kernelspec": {
   "display_name": "Python 3 (ipykernel)",
   "language": "python",
   "name": "python3"
  },
  "language_info": {
   "codemirror_mode": {
    "name": "ipython",
    "version": 3
   },
   "file_extension": ".py",
   "mimetype": "text/x-python",
   "name": "python",
   "nbconvert_exporter": "python",
   "pygments_lexer": "ipython3",
   "version": "3.9.7"
  }
 },
 "nbformat": 4,
 "nbformat_minor": 5
}
